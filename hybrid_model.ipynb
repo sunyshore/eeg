{
  "nbformat": 4,
  "nbformat_minor": 0,
  "metadata": {
    "colab": {
      "provenance": [],
      "gpuType": "T4"
    },
    "kernelspec": {
      "name": "python3",
      "display_name": "Python 3"
    },
    "language_info": {
      "name": "python"
    },
    "accelerator": "GPU"
  },
  "cells": [
    {
      "cell_type": "code",
      "execution_count": 16,
      "metadata": {
        "colab": {
          "base_uri": "https://localhost:8080/"
        },
        "id": "qrXLCL903GCv",
        "outputId": "fc362ffb-5478-46b0-bd72-ff4fc3a5e6f1"
      },
      "outputs": [
        {
          "output_type": "stream",
          "name": "stdout",
          "text": [
            "GPU Available:  [PhysicalDevice(name='/physical_device:GPU:0', device_type='GPU')]\n",
            "Drive already mounted at /content/drive; to attempt to forcibly remount, call drive.mount(\"/content/drive\", force_remount=True).\n",
            "GAMEEMO  S01G1AllChannels.csv\n"
          ]
        }
      ],
      "source": [
        "import numpy as np\n",
        "import pandas as pd\n",
        "import tensorflow as tf\n",
        "from tensorflow.keras.models import Sequential\n",
        "from tensorflow.keras.layers import LSTM, Dense, Dropout, Conv1D, MaxPooling1D, BatchNormalization\n",
        "from sklearn.model_selection import train_test_split\n",
        "from sklearn.preprocessing import StandardScaler\n",
        "import matplotlib.pyplot as plt\n",
        "from sklearn.utils.class_weight import compute_class_weight\n",
        "\n",
        "\n",
        "\n",
        "# Check if GPU is available\n",
        "print(\"GPU Available: \", tf.config.list_physical_devices('GPU'))\n",
        "\n",
        "# Mount Google Drive\n",
        "from google.colab import drive\n",
        "drive.mount('/content/drive')\n",
        "\n",
        "# After mounting, verify access\n",
        "!ls \"/content/drive/My Drive/EEG_Project\""
      ]
    },
    {
      "cell_type": "code",
      "source": [
        "!ls \"/content/drive/MyDrive/EEG_Project\""
      ],
      "metadata": {
        "colab": {
          "base_uri": "https://localhost:8080/"
        },
        "id": "Mp8l9dkg4NK_",
        "outputId": "ac629350-6149-43f7-8c97-4cdc8565b2c2"
      },
      "execution_count": 17,
      "outputs": [
        {
          "output_type": "stream",
          "name": "stdout",
          "text": [
            "GAMEEMO  S01G1AllChannels.csv\n"
          ]
        }
      ]
    },
    {
      "cell_type": "code",
      "source": [
        "def create_windows(df, window_size=100, step_size=50):\n",
        "    windows = []\n",
        "    for i in range(0, len(df) - window_size + 1, step_size):\n",
        "        window = df.iloc[i:i + window_size].values\n",
        "        windows.append(window)\n",
        "    return np.array(windows)\n",
        "\n",
        "# Define emotions for each game\n",
        "game_emotions = {\n",
        "    1: 'calm',      # G1\n",
        "    2: 'boring',    # G2\n",
        "    3: 'funny',     # G3\n",
        "    4: 'horror'     # G4\n",
        "}\n",
        "\n",
        "all_data = []\n",
        "all_labels = []\n",
        "\n",
        "# Load data\n",
        "base_path = \"/content/drive/MyDrive/EEG_Project\"\n",
        "\n",
        "for subject in range(1, 29):  # 28 subjects\n",
        "    subject_str = f\"{subject:02d}\"\n",
        "    for game in range(1, 5):  # 4 games\n",
        "        path = f\"/content/drive/My Drive/EEG_Project/GAMEEMO/(S{subject_str})/Preprocessed EEG Data/.csv format/S{subject_str}G{game}AllChannels.csv\"\n",
        "        try:\n",
        "            game_data = pd.read_csv(path)\n",
        "            if 'Unnamed: 14' in game_data.columns:\n",
        "                game_data = game_data.drop(columns=['Unnamed: 14'])\n",
        "            game_data = game_data.fillna(method='ffill')\n",
        "\n",
        "            windows = create_windows(game_data)\n",
        "            labels = [game_emotions[game]] * len(windows)\n",
        "\n",
        "            all_data.append(windows)\n",
        "            all_labels.extend(labels)\n",
        "            print(f\"Loaded game {game} for subject {subject_str}\")\n",
        "        except FileNotFoundError:\n",
        "            print(f\"Missing file for game {game}, subject {subject_str}\")\n",
        "\n",
        "# Prepare data\n",
        "X = np.vstack(all_data)\n",
        "y = np.array(all_labels)\n",
        "\n",
        "# Convert labels to numeric\n",
        "label_map = {'calm': 0, 'boring': 1, 'funny': 2, 'horror': 3}\n",
        "y_numeric = np.array([label_map[label] for label in y])\n",
        "\n",
        "# Split data\n",
        "X_train, X_test, y_train, y_test = train_test_split(X, y_numeric, test_size=0.2, random_state=42)"
      ],
      "metadata": {
        "colab": {
          "base_uri": "https://localhost:8080/"
        },
        "id": "R0_MxOhC3InX",
        "outputId": "1e213dd8-7fc6-4f4e-fa1c-9f17e76ee99e"
      },
      "execution_count": 18,
      "outputs": [
        {
          "output_type": "stream",
          "name": "stderr",
          "text": [
            "<ipython-input-18-72b5c72dcafb>:30: FutureWarning: DataFrame.fillna with 'method' is deprecated and will raise in a future version. Use obj.ffill() or obj.bfill() instead.\n",
            "  game_data = game_data.fillna(method='ffill')\n",
            "<ipython-input-18-72b5c72dcafb>:30: FutureWarning: DataFrame.fillna with 'method' is deprecated and will raise in a future version. Use obj.ffill() or obj.bfill() instead.\n",
            "  game_data = game_data.fillna(method='ffill')\n"
          ]
        },
        {
          "output_type": "stream",
          "name": "stdout",
          "text": [
            "Loaded game 1 for subject 01\n",
            "Loaded game 2 for subject 01\n"
          ]
        },
        {
          "output_type": "stream",
          "name": "stderr",
          "text": [
            "<ipython-input-18-72b5c72dcafb>:30: FutureWarning: DataFrame.fillna with 'method' is deprecated and will raise in a future version. Use obj.ffill() or obj.bfill() instead.\n",
            "  game_data = game_data.fillna(method='ffill')\n",
            "<ipython-input-18-72b5c72dcafb>:30: FutureWarning: DataFrame.fillna with 'method' is deprecated and will raise in a future version. Use obj.ffill() or obj.bfill() instead.\n",
            "  game_data = game_data.fillna(method='ffill')\n"
          ]
        },
        {
          "output_type": "stream",
          "name": "stdout",
          "text": [
            "Loaded game 3 for subject 01\n",
            "Loaded game 4 for subject 01\n"
          ]
        },
        {
          "output_type": "stream",
          "name": "stderr",
          "text": [
            "<ipython-input-18-72b5c72dcafb>:30: FutureWarning: DataFrame.fillna with 'method' is deprecated and will raise in a future version. Use obj.ffill() or obj.bfill() instead.\n",
            "  game_data = game_data.fillna(method='ffill')\n",
            "<ipython-input-18-72b5c72dcafb>:30: FutureWarning: DataFrame.fillna with 'method' is deprecated and will raise in a future version. Use obj.ffill() or obj.bfill() instead.\n",
            "  game_data = game_data.fillna(method='ffill')\n"
          ]
        },
        {
          "output_type": "stream",
          "name": "stdout",
          "text": [
            "Loaded game 1 for subject 02\n",
            "Loaded game 2 for subject 02\n"
          ]
        },
        {
          "output_type": "stream",
          "name": "stderr",
          "text": [
            "<ipython-input-18-72b5c72dcafb>:30: FutureWarning: DataFrame.fillna with 'method' is deprecated and will raise in a future version. Use obj.ffill() or obj.bfill() instead.\n",
            "  game_data = game_data.fillna(method='ffill')\n",
            "<ipython-input-18-72b5c72dcafb>:30: FutureWarning: DataFrame.fillna with 'method' is deprecated and will raise in a future version. Use obj.ffill() or obj.bfill() instead.\n",
            "  game_data = game_data.fillna(method='ffill')\n"
          ]
        },
        {
          "output_type": "stream",
          "name": "stdout",
          "text": [
            "Loaded game 3 for subject 02\n",
            "Loaded game 4 for subject 02\n"
          ]
        },
        {
          "output_type": "stream",
          "name": "stderr",
          "text": [
            "<ipython-input-18-72b5c72dcafb>:30: FutureWarning: DataFrame.fillna with 'method' is deprecated and will raise in a future version. Use obj.ffill() or obj.bfill() instead.\n",
            "  game_data = game_data.fillna(method='ffill')\n",
            "<ipython-input-18-72b5c72dcafb>:30: FutureWarning: DataFrame.fillna with 'method' is deprecated and will raise in a future version. Use obj.ffill() or obj.bfill() instead.\n",
            "  game_data = game_data.fillna(method='ffill')\n"
          ]
        },
        {
          "output_type": "stream",
          "name": "stdout",
          "text": [
            "Loaded game 1 for subject 03\n",
            "Loaded game 2 for subject 03\n"
          ]
        },
        {
          "output_type": "stream",
          "name": "stderr",
          "text": [
            "<ipython-input-18-72b5c72dcafb>:30: FutureWarning: DataFrame.fillna with 'method' is deprecated and will raise in a future version. Use obj.ffill() or obj.bfill() instead.\n",
            "  game_data = game_data.fillna(method='ffill')\n",
            "<ipython-input-18-72b5c72dcafb>:30: FutureWarning: DataFrame.fillna with 'method' is deprecated and will raise in a future version. Use obj.ffill() or obj.bfill() instead.\n",
            "  game_data = game_data.fillna(method='ffill')\n"
          ]
        },
        {
          "output_type": "stream",
          "name": "stdout",
          "text": [
            "Loaded game 3 for subject 03\n",
            "Loaded game 4 for subject 03\n"
          ]
        },
        {
          "output_type": "stream",
          "name": "stderr",
          "text": [
            "<ipython-input-18-72b5c72dcafb>:30: FutureWarning: DataFrame.fillna with 'method' is deprecated and will raise in a future version. Use obj.ffill() or obj.bfill() instead.\n",
            "  game_data = game_data.fillna(method='ffill')\n",
            "<ipython-input-18-72b5c72dcafb>:30: FutureWarning: DataFrame.fillna with 'method' is deprecated and will raise in a future version. Use obj.ffill() or obj.bfill() instead.\n",
            "  game_data = game_data.fillna(method='ffill')\n"
          ]
        },
        {
          "output_type": "stream",
          "name": "stdout",
          "text": [
            "Loaded game 1 for subject 04\n",
            "Loaded game 2 for subject 04\n"
          ]
        },
        {
          "output_type": "stream",
          "name": "stderr",
          "text": [
            "<ipython-input-18-72b5c72dcafb>:30: FutureWarning: DataFrame.fillna with 'method' is deprecated and will raise in a future version. Use obj.ffill() or obj.bfill() instead.\n",
            "  game_data = game_data.fillna(method='ffill')\n",
            "<ipython-input-18-72b5c72dcafb>:30: FutureWarning: DataFrame.fillna with 'method' is deprecated and will raise in a future version. Use obj.ffill() or obj.bfill() instead.\n",
            "  game_data = game_data.fillna(method='ffill')\n"
          ]
        },
        {
          "output_type": "stream",
          "name": "stdout",
          "text": [
            "Loaded game 3 for subject 04\n",
            "Loaded game 4 for subject 04\n"
          ]
        },
        {
          "output_type": "stream",
          "name": "stderr",
          "text": [
            "<ipython-input-18-72b5c72dcafb>:30: FutureWarning: DataFrame.fillna with 'method' is deprecated and will raise in a future version. Use obj.ffill() or obj.bfill() instead.\n",
            "  game_data = game_data.fillna(method='ffill')\n",
            "<ipython-input-18-72b5c72dcafb>:30: FutureWarning: DataFrame.fillna with 'method' is deprecated and will raise in a future version. Use obj.ffill() or obj.bfill() instead.\n",
            "  game_data = game_data.fillna(method='ffill')\n"
          ]
        },
        {
          "output_type": "stream",
          "name": "stdout",
          "text": [
            "Loaded game 1 for subject 05\n",
            "Loaded game 2 for subject 05\n"
          ]
        },
        {
          "output_type": "stream",
          "name": "stderr",
          "text": [
            "<ipython-input-18-72b5c72dcafb>:30: FutureWarning: DataFrame.fillna with 'method' is deprecated and will raise in a future version. Use obj.ffill() or obj.bfill() instead.\n",
            "  game_data = game_data.fillna(method='ffill')\n",
            "<ipython-input-18-72b5c72dcafb>:30: FutureWarning: DataFrame.fillna with 'method' is deprecated and will raise in a future version. Use obj.ffill() or obj.bfill() instead.\n",
            "  game_data = game_data.fillna(method='ffill')\n"
          ]
        },
        {
          "output_type": "stream",
          "name": "stdout",
          "text": [
            "Loaded game 3 for subject 05\n",
            "Loaded game 4 for subject 05\n"
          ]
        },
        {
          "output_type": "stream",
          "name": "stderr",
          "text": [
            "<ipython-input-18-72b5c72dcafb>:30: FutureWarning: DataFrame.fillna with 'method' is deprecated and will raise in a future version. Use obj.ffill() or obj.bfill() instead.\n",
            "  game_data = game_data.fillna(method='ffill')\n",
            "<ipython-input-18-72b5c72dcafb>:30: FutureWarning: DataFrame.fillna with 'method' is deprecated and will raise in a future version. Use obj.ffill() or obj.bfill() instead.\n",
            "  game_data = game_data.fillna(method='ffill')\n"
          ]
        },
        {
          "output_type": "stream",
          "name": "stdout",
          "text": [
            "Loaded game 1 for subject 06\n",
            "Loaded game 2 for subject 06\n"
          ]
        },
        {
          "output_type": "stream",
          "name": "stderr",
          "text": [
            "<ipython-input-18-72b5c72dcafb>:30: FutureWarning: DataFrame.fillna with 'method' is deprecated and will raise in a future version. Use obj.ffill() or obj.bfill() instead.\n",
            "  game_data = game_data.fillna(method='ffill')\n",
            "<ipython-input-18-72b5c72dcafb>:30: FutureWarning: DataFrame.fillna with 'method' is deprecated and will raise in a future version. Use obj.ffill() or obj.bfill() instead.\n",
            "  game_data = game_data.fillna(method='ffill')\n"
          ]
        },
        {
          "output_type": "stream",
          "name": "stdout",
          "text": [
            "Loaded game 3 for subject 06\n",
            "Loaded game 4 for subject 06\n"
          ]
        },
        {
          "output_type": "stream",
          "name": "stderr",
          "text": [
            "<ipython-input-18-72b5c72dcafb>:30: FutureWarning: DataFrame.fillna with 'method' is deprecated and will raise in a future version. Use obj.ffill() or obj.bfill() instead.\n",
            "  game_data = game_data.fillna(method='ffill')\n",
            "<ipython-input-18-72b5c72dcafb>:30: FutureWarning: DataFrame.fillna with 'method' is deprecated and will raise in a future version. Use obj.ffill() or obj.bfill() instead.\n",
            "  game_data = game_data.fillna(method='ffill')\n"
          ]
        },
        {
          "output_type": "stream",
          "name": "stdout",
          "text": [
            "Loaded game 1 for subject 07\n",
            "Loaded game 2 for subject 07\n"
          ]
        },
        {
          "output_type": "stream",
          "name": "stderr",
          "text": [
            "<ipython-input-18-72b5c72dcafb>:30: FutureWarning: DataFrame.fillna with 'method' is deprecated and will raise in a future version. Use obj.ffill() or obj.bfill() instead.\n",
            "  game_data = game_data.fillna(method='ffill')\n",
            "<ipython-input-18-72b5c72dcafb>:30: FutureWarning: DataFrame.fillna with 'method' is deprecated and will raise in a future version. Use obj.ffill() or obj.bfill() instead.\n",
            "  game_data = game_data.fillna(method='ffill')\n"
          ]
        },
        {
          "output_type": "stream",
          "name": "stdout",
          "text": [
            "Loaded game 3 for subject 07\n",
            "Loaded game 4 for subject 07\n"
          ]
        },
        {
          "output_type": "stream",
          "name": "stderr",
          "text": [
            "<ipython-input-18-72b5c72dcafb>:30: FutureWarning: DataFrame.fillna with 'method' is deprecated and will raise in a future version. Use obj.ffill() or obj.bfill() instead.\n",
            "  game_data = game_data.fillna(method='ffill')\n",
            "<ipython-input-18-72b5c72dcafb>:30: FutureWarning: DataFrame.fillna with 'method' is deprecated and will raise in a future version. Use obj.ffill() or obj.bfill() instead.\n",
            "  game_data = game_data.fillna(method='ffill')\n"
          ]
        },
        {
          "output_type": "stream",
          "name": "stdout",
          "text": [
            "Loaded game 1 for subject 08\n",
            "Loaded game 2 for subject 08\n"
          ]
        },
        {
          "output_type": "stream",
          "name": "stderr",
          "text": [
            "<ipython-input-18-72b5c72dcafb>:30: FutureWarning: DataFrame.fillna with 'method' is deprecated and will raise in a future version. Use obj.ffill() or obj.bfill() instead.\n",
            "  game_data = game_data.fillna(method='ffill')\n",
            "<ipython-input-18-72b5c72dcafb>:30: FutureWarning: DataFrame.fillna with 'method' is deprecated and will raise in a future version. Use obj.ffill() or obj.bfill() instead.\n",
            "  game_data = game_data.fillna(method='ffill')\n"
          ]
        },
        {
          "output_type": "stream",
          "name": "stdout",
          "text": [
            "Loaded game 3 for subject 08\n",
            "Loaded game 4 for subject 08\n"
          ]
        },
        {
          "output_type": "stream",
          "name": "stderr",
          "text": [
            "<ipython-input-18-72b5c72dcafb>:30: FutureWarning: DataFrame.fillna with 'method' is deprecated and will raise in a future version. Use obj.ffill() or obj.bfill() instead.\n",
            "  game_data = game_data.fillna(method='ffill')\n",
            "<ipython-input-18-72b5c72dcafb>:30: FutureWarning: DataFrame.fillna with 'method' is deprecated and will raise in a future version. Use obj.ffill() or obj.bfill() instead.\n",
            "  game_data = game_data.fillna(method='ffill')\n"
          ]
        },
        {
          "output_type": "stream",
          "name": "stdout",
          "text": [
            "Loaded game 1 for subject 09\n",
            "Loaded game 2 for subject 09\n"
          ]
        },
        {
          "output_type": "stream",
          "name": "stderr",
          "text": [
            "<ipython-input-18-72b5c72dcafb>:30: FutureWarning: DataFrame.fillna with 'method' is deprecated and will raise in a future version. Use obj.ffill() or obj.bfill() instead.\n",
            "  game_data = game_data.fillna(method='ffill')\n",
            "<ipython-input-18-72b5c72dcafb>:30: FutureWarning: DataFrame.fillna with 'method' is deprecated and will raise in a future version. Use obj.ffill() or obj.bfill() instead.\n",
            "  game_data = game_data.fillna(method='ffill')\n",
            "<ipython-input-18-72b5c72dcafb>:30: FutureWarning: DataFrame.fillna with 'method' is deprecated and will raise in a future version. Use obj.ffill() or obj.bfill() instead.\n",
            "  game_data = game_data.fillna(method='ffill')\n"
          ]
        },
        {
          "output_type": "stream",
          "name": "stdout",
          "text": [
            "Loaded game 3 for subject 09\n",
            "Loaded game 4 for subject 09\n",
            "Loaded game 1 for subject 10\n"
          ]
        },
        {
          "output_type": "stream",
          "name": "stderr",
          "text": [
            "<ipython-input-18-72b5c72dcafb>:30: FutureWarning: DataFrame.fillna with 'method' is deprecated and will raise in a future version. Use obj.ffill() or obj.bfill() instead.\n",
            "  game_data = game_data.fillna(method='ffill')\n",
            "<ipython-input-18-72b5c72dcafb>:30: FutureWarning: DataFrame.fillna with 'method' is deprecated and will raise in a future version. Use obj.ffill() or obj.bfill() instead.\n",
            "  game_data = game_data.fillna(method='ffill')\n"
          ]
        },
        {
          "output_type": "stream",
          "name": "stdout",
          "text": [
            "Loaded game 2 for subject 10\n",
            "Loaded game 3 for subject 10\n"
          ]
        },
        {
          "output_type": "stream",
          "name": "stderr",
          "text": [
            "<ipython-input-18-72b5c72dcafb>:30: FutureWarning: DataFrame.fillna with 'method' is deprecated and will raise in a future version. Use obj.ffill() or obj.bfill() instead.\n",
            "  game_data = game_data.fillna(method='ffill')\n",
            "<ipython-input-18-72b5c72dcafb>:30: FutureWarning: DataFrame.fillna with 'method' is deprecated and will raise in a future version. Use obj.ffill() or obj.bfill() instead.\n",
            "  game_data = game_data.fillna(method='ffill')\n",
            "<ipython-input-18-72b5c72dcafb>:30: FutureWarning: DataFrame.fillna with 'method' is deprecated and will raise in a future version. Use obj.ffill() or obj.bfill() instead.\n",
            "  game_data = game_data.fillna(method='ffill')\n"
          ]
        },
        {
          "output_type": "stream",
          "name": "stdout",
          "text": [
            "Loaded game 4 for subject 10\n",
            "Loaded game 1 for subject 11\n",
            "Loaded game 2 for subject 11\n"
          ]
        },
        {
          "output_type": "stream",
          "name": "stderr",
          "text": [
            "<ipython-input-18-72b5c72dcafb>:30: FutureWarning: DataFrame.fillna with 'method' is deprecated and will raise in a future version. Use obj.ffill() or obj.bfill() instead.\n",
            "  game_data = game_data.fillna(method='ffill')\n",
            "<ipython-input-18-72b5c72dcafb>:30: FutureWarning: DataFrame.fillna with 'method' is deprecated and will raise in a future version. Use obj.ffill() or obj.bfill() instead.\n",
            "  game_data = game_data.fillna(method='ffill')\n"
          ]
        },
        {
          "output_type": "stream",
          "name": "stdout",
          "text": [
            "Loaded game 3 for subject 11\n",
            "Loaded game 4 for subject 11\n"
          ]
        },
        {
          "output_type": "stream",
          "name": "stderr",
          "text": [
            "<ipython-input-18-72b5c72dcafb>:30: FutureWarning: DataFrame.fillna with 'method' is deprecated and will raise in a future version. Use obj.ffill() or obj.bfill() instead.\n",
            "  game_data = game_data.fillna(method='ffill')\n",
            "<ipython-input-18-72b5c72dcafb>:30: FutureWarning: DataFrame.fillna with 'method' is deprecated and will raise in a future version. Use obj.ffill() or obj.bfill() instead.\n",
            "  game_data = game_data.fillna(method='ffill')\n"
          ]
        },
        {
          "output_type": "stream",
          "name": "stdout",
          "text": [
            "Loaded game 1 for subject 12\n",
            "Loaded game 2 for subject 12\n"
          ]
        },
        {
          "output_type": "stream",
          "name": "stderr",
          "text": [
            "<ipython-input-18-72b5c72dcafb>:30: FutureWarning: DataFrame.fillna with 'method' is deprecated and will raise in a future version. Use obj.ffill() or obj.bfill() instead.\n",
            "  game_data = game_data.fillna(method='ffill')\n",
            "<ipython-input-18-72b5c72dcafb>:30: FutureWarning: DataFrame.fillna with 'method' is deprecated and will raise in a future version. Use obj.ffill() or obj.bfill() instead.\n",
            "  game_data = game_data.fillna(method='ffill')\n",
            "<ipython-input-18-72b5c72dcafb>:30: FutureWarning: DataFrame.fillna with 'method' is deprecated and will raise in a future version. Use obj.ffill() or obj.bfill() instead.\n",
            "  game_data = game_data.fillna(method='ffill')\n"
          ]
        },
        {
          "output_type": "stream",
          "name": "stdout",
          "text": [
            "Loaded game 3 for subject 12\n",
            "Loaded game 4 for subject 12\n",
            "Loaded game 1 for subject 13\n"
          ]
        },
        {
          "output_type": "stream",
          "name": "stderr",
          "text": [
            "<ipython-input-18-72b5c72dcafb>:30: FutureWarning: DataFrame.fillna with 'method' is deprecated and will raise in a future version. Use obj.ffill() or obj.bfill() instead.\n",
            "  game_data = game_data.fillna(method='ffill')\n",
            "<ipython-input-18-72b5c72dcafb>:30: FutureWarning: DataFrame.fillna with 'method' is deprecated and will raise in a future version. Use obj.ffill() or obj.bfill() instead.\n",
            "  game_data = game_data.fillna(method='ffill')\n",
            "<ipython-input-18-72b5c72dcafb>:30: FutureWarning: DataFrame.fillna with 'method' is deprecated and will raise in a future version. Use obj.ffill() or obj.bfill() instead.\n",
            "  game_data = game_data.fillna(method='ffill')\n"
          ]
        },
        {
          "output_type": "stream",
          "name": "stdout",
          "text": [
            "Loaded game 2 for subject 13\n",
            "Loaded game 3 for subject 13\n",
            "Loaded game 4 for subject 13\n"
          ]
        },
        {
          "output_type": "stream",
          "name": "stderr",
          "text": [
            "<ipython-input-18-72b5c72dcafb>:30: FutureWarning: DataFrame.fillna with 'method' is deprecated and will raise in a future version. Use obj.ffill() or obj.bfill() instead.\n",
            "  game_data = game_data.fillna(method='ffill')\n",
            "<ipython-input-18-72b5c72dcafb>:30: FutureWarning: DataFrame.fillna with 'method' is deprecated and will raise in a future version. Use obj.ffill() or obj.bfill() instead.\n",
            "  game_data = game_data.fillna(method='ffill')\n",
            "<ipython-input-18-72b5c72dcafb>:30: FutureWarning: DataFrame.fillna with 'method' is deprecated and will raise in a future version. Use obj.ffill() or obj.bfill() instead.\n",
            "  game_data = game_data.fillna(method='ffill')\n"
          ]
        },
        {
          "output_type": "stream",
          "name": "stdout",
          "text": [
            "Loaded game 1 for subject 14\n",
            "Loaded game 2 for subject 14\n",
            "Loaded game 3 for subject 14\n"
          ]
        },
        {
          "output_type": "stream",
          "name": "stderr",
          "text": [
            "<ipython-input-18-72b5c72dcafb>:30: FutureWarning: DataFrame.fillna with 'method' is deprecated and will raise in a future version. Use obj.ffill() or obj.bfill() instead.\n",
            "  game_data = game_data.fillna(method='ffill')\n",
            "<ipython-input-18-72b5c72dcafb>:30: FutureWarning: DataFrame.fillna with 'method' is deprecated and will raise in a future version. Use obj.ffill() or obj.bfill() instead.\n",
            "  game_data = game_data.fillna(method='ffill')\n",
            "<ipython-input-18-72b5c72dcafb>:30: FutureWarning: DataFrame.fillna with 'method' is deprecated and will raise in a future version. Use obj.ffill() or obj.bfill() instead.\n",
            "  game_data = game_data.fillna(method='ffill')\n"
          ]
        },
        {
          "output_type": "stream",
          "name": "stdout",
          "text": [
            "Loaded game 4 for subject 14\n",
            "Loaded game 1 for subject 15\n",
            "Loaded game 2 for subject 15\n"
          ]
        },
        {
          "output_type": "stream",
          "name": "stderr",
          "text": [
            "<ipython-input-18-72b5c72dcafb>:30: FutureWarning: DataFrame.fillna with 'method' is deprecated and will raise in a future version. Use obj.ffill() or obj.bfill() instead.\n",
            "  game_data = game_data.fillna(method='ffill')\n",
            "<ipython-input-18-72b5c72dcafb>:30: FutureWarning: DataFrame.fillna with 'method' is deprecated and will raise in a future version. Use obj.ffill() or obj.bfill() instead.\n",
            "  game_data = game_data.fillna(method='ffill')\n",
            "<ipython-input-18-72b5c72dcafb>:30: FutureWarning: DataFrame.fillna with 'method' is deprecated and will raise in a future version. Use obj.ffill() or obj.bfill() instead.\n",
            "  game_data = game_data.fillna(method='ffill')\n"
          ]
        },
        {
          "output_type": "stream",
          "name": "stdout",
          "text": [
            "Loaded game 3 for subject 15\n",
            "Loaded game 4 for subject 15\n",
            "Loaded game 1 for subject 16\n"
          ]
        },
        {
          "output_type": "stream",
          "name": "stderr",
          "text": [
            "<ipython-input-18-72b5c72dcafb>:30: FutureWarning: DataFrame.fillna with 'method' is deprecated and will raise in a future version. Use obj.ffill() or obj.bfill() instead.\n",
            "  game_data = game_data.fillna(method='ffill')\n",
            "<ipython-input-18-72b5c72dcafb>:30: FutureWarning: DataFrame.fillna with 'method' is deprecated and will raise in a future version. Use obj.ffill() or obj.bfill() instead.\n",
            "  game_data = game_data.fillna(method='ffill')\n",
            "<ipython-input-18-72b5c72dcafb>:30: FutureWarning: DataFrame.fillna with 'method' is deprecated and will raise in a future version. Use obj.ffill() or obj.bfill() instead.\n",
            "  game_data = game_data.fillna(method='ffill')\n"
          ]
        },
        {
          "output_type": "stream",
          "name": "stdout",
          "text": [
            "Loaded game 2 for subject 16\n",
            "Loaded game 3 for subject 16\n",
            "Loaded game 4 for subject 16\n"
          ]
        },
        {
          "output_type": "stream",
          "name": "stderr",
          "text": [
            "<ipython-input-18-72b5c72dcafb>:30: FutureWarning: DataFrame.fillna with 'method' is deprecated and will raise in a future version. Use obj.ffill() or obj.bfill() instead.\n",
            "  game_data = game_data.fillna(method='ffill')\n",
            "<ipython-input-18-72b5c72dcafb>:30: FutureWarning: DataFrame.fillna with 'method' is deprecated and will raise in a future version. Use obj.ffill() or obj.bfill() instead.\n",
            "  game_data = game_data.fillna(method='ffill')\n",
            "<ipython-input-18-72b5c72dcafb>:30: FutureWarning: DataFrame.fillna with 'method' is deprecated and will raise in a future version. Use obj.ffill() or obj.bfill() instead.\n",
            "  game_data = game_data.fillna(method='ffill')\n"
          ]
        },
        {
          "output_type": "stream",
          "name": "stdout",
          "text": [
            "Loaded game 1 for subject 17\n",
            "Loaded game 2 for subject 17\n",
            "Loaded game 3 for subject 17\n"
          ]
        },
        {
          "output_type": "stream",
          "name": "stderr",
          "text": [
            "<ipython-input-18-72b5c72dcafb>:30: FutureWarning: DataFrame.fillna with 'method' is deprecated and will raise in a future version. Use obj.ffill() or obj.bfill() instead.\n",
            "  game_data = game_data.fillna(method='ffill')\n",
            "<ipython-input-18-72b5c72dcafb>:30: FutureWarning: DataFrame.fillna with 'method' is deprecated and will raise in a future version. Use obj.ffill() or obj.bfill() instead.\n",
            "  game_data = game_data.fillna(method='ffill')\n"
          ]
        },
        {
          "output_type": "stream",
          "name": "stdout",
          "text": [
            "Loaded game 4 for subject 17\n",
            "Loaded game 1 for subject 18\n"
          ]
        },
        {
          "output_type": "stream",
          "name": "stderr",
          "text": [
            "<ipython-input-18-72b5c72dcafb>:30: FutureWarning: DataFrame.fillna with 'method' is deprecated and will raise in a future version. Use obj.ffill() or obj.bfill() instead.\n",
            "  game_data = game_data.fillna(method='ffill')\n",
            "<ipython-input-18-72b5c72dcafb>:30: FutureWarning: DataFrame.fillna with 'method' is deprecated and will raise in a future version. Use obj.ffill() or obj.bfill() instead.\n",
            "  game_data = game_data.fillna(method='ffill')\n"
          ]
        },
        {
          "output_type": "stream",
          "name": "stdout",
          "text": [
            "Loaded game 2 for subject 18\n",
            "Loaded game 3 for subject 18\n"
          ]
        },
        {
          "output_type": "stream",
          "name": "stderr",
          "text": [
            "<ipython-input-18-72b5c72dcafb>:30: FutureWarning: DataFrame.fillna with 'method' is deprecated and will raise in a future version. Use obj.ffill() or obj.bfill() instead.\n",
            "  game_data = game_data.fillna(method='ffill')\n",
            "<ipython-input-18-72b5c72dcafb>:30: FutureWarning: DataFrame.fillna with 'method' is deprecated and will raise in a future version. Use obj.ffill() or obj.bfill() instead.\n",
            "  game_data = game_data.fillna(method='ffill')\n"
          ]
        },
        {
          "output_type": "stream",
          "name": "stdout",
          "text": [
            "Loaded game 4 for subject 18\n",
            "Loaded game 1 for subject 19\n"
          ]
        },
        {
          "output_type": "stream",
          "name": "stderr",
          "text": [
            "<ipython-input-18-72b5c72dcafb>:30: FutureWarning: DataFrame.fillna with 'method' is deprecated and will raise in a future version. Use obj.ffill() or obj.bfill() instead.\n",
            "  game_data = game_data.fillna(method='ffill')\n",
            "<ipython-input-18-72b5c72dcafb>:30: FutureWarning: DataFrame.fillna with 'method' is deprecated and will raise in a future version. Use obj.ffill() or obj.bfill() instead.\n",
            "  game_data = game_data.fillna(method='ffill')\n"
          ]
        },
        {
          "output_type": "stream",
          "name": "stdout",
          "text": [
            "Loaded game 2 for subject 19\n",
            "Loaded game 3 for subject 19\n"
          ]
        },
        {
          "output_type": "stream",
          "name": "stderr",
          "text": [
            "<ipython-input-18-72b5c72dcafb>:30: FutureWarning: DataFrame.fillna with 'method' is deprecated and will raise in a future version. Use obj.ffill() or obj.bfill() instead.\n",
            "  game_data = game_data.fillna(method='ffill')\n",
            "<ipython-input-18-72b5c72dcafb>:30: FutureWarning: DataFrame.fillna with 'method' is deprecated and will raise in a future version. Use obj.ffill() or obj.bfill() instead.\n",
            "  game_data = game_data.fillna(method='ffill')\n"
          ]
        },
        {
          "output_type": "stream",
          "name": "stdout",
          "text": [
            "Loaded game 4 for subject 19\n",
            "Loaded game 1 for subject 20\n"
          ]
        },
        {
          "output_type": "stream",
          "name": "stderr",
          "text": [
            "<ipython-input-18-72b5c72dcafb>:30: FutureWarning: DataFrame.fillna with 'method' is deprecated and will raise in a future version. Use obj.ffill() or obj.bfill() instead.\n",
            "  game_data = game_data.fillna(method='ffill')\n",
            "<ipython-input-18-72b5c72dcafb>:30: FutureWarning: DataFrame.fillna with 'method' is deprecated and will raise in a future version. Use obj.ffill() or obj.bfill() instead.\n",
            "  game_data = game_data.fillna(method='ffill')\n",
            "<ipython-input-18-72b5c72dcafb>:30: FutureWarning: DataFrame.fillna with 'method' is deprecated and will raise in a future version. Use obj.ffill() or obj.bfill() instead.\n",
            "  game_data = game_data.fillna(method='ffill')\n"
          ]
        },
        {
          "output_type": "stream",
          "name": "stdout",
          "text": [
            "Loaded game 2 for subject 20\n",
            "Loaded game 3 for subject 20\n",
            "Loaded game 4 for subject 20\n",
            "Loaded game 1 for subject 21\n",
            "Loaded game 2 for subject 21\n"
          ]
        },
        {
          "output_type": "stream",
          "name": "stderr",
          "text": [
            "<ipython-input-18-72b5c72dcafb>:30: FutureWarning: DataFrame.fillna with 'method' is deprecated and will raise in a future version. Use obj.ffill() or obj.bfill() instead.\n",
            "  game_data = game_data.fillna(method='ffill')\n",
            "<ipython-input-18-72b5c72dcafb>:30: FutureWarning: DataFrame.fillna with 'method' is deprecated and will raise in a future version. Use obj.ffill() or obj.bfill() instead.\n",
            "  game_data = game_data.fillna(method='ffill')\n",
            "<ipython-input-18-72b5c72dcafb>:30: FutureWarning: DataFrame.fillna with 'method' is deprecated and will raise in a future version. Use obj.ffill() or obj.bfill() instead.\n",
            "  game_data = game_data.fillna(method='ffill')\n"
          ]
        },
        {
          "output_type": "stream",
          "name": "stdout",
          "text": [
            "Loaded game 3 for subject 21\n",
            "Loaded game 4 for subject 21\n",
            "Loaded game 1 for subject 22\n"
          ]
        },
        {
          "output_type": "stream",
          "name": "stderr",
          "text": [
            "<ipython-input-18-72b5c72dcafb>:30: FutureWarning: DataFrame.fillna with 'method' is deprecated and will raise in a future version. Use obj.ffill() or obj.bfill() instead.\n",
            "  game_data = game_data.fillna(method='ffill')\n",
            "<ipython-input-18-72b5c72dcafb>:30: FutureWarning: DataFrame.fillna with 'method' is deprecated and will raise in a future version. Use obj.ffill() or obj.bfill() instead.\n",
            "  game_data = game_data.fillna(method='ffill')\n",
            "<ipython-input-18-72b5c72dcafb>:30: FutureWarning: DataFrame.fillna with 'method' is deprecated and will raise in a future version. Use obj.ffill() or obj.bfill() instead.\n",
            "  game_data = game_data.fillna(method='ffill')\n"
          ]
        },
        {
          "output_type": "stream",
          "name": "stdout",
          "text": [
            "Loaded game 2 for subject 22\n",
            "Loaded game 3 for subject 22\n",
            "Loaded game 4 for subject 22\n"
          ]
        },
        {
          "output_type": "stream",
          "name": "stderr",
          "text": [
            "<ipython-input-18-72b5c72dcafb>:30: FutureWarning: DataFrame.fillna with 'method' is deprecated and will raise in a future version. Use obj.ffill() or obj.bfill() instead.\n",
            "  game_data = game_data.fillna(method='ffill')\n",
            "<ipython-input-18-72b5c72dcafb>:30: FutureWarning: DataFrame.fillna with 'method' is deprecated and will raise in a future version. Use obj.ffill() or obj.bfill() instead.\n",
            "  game_data = game_data.fillna(method='ffill')\n",
            "<ipython-input-18-72b5c72dcafb>:30: FutureWarning: DataFrame.fillna with 'method' is deprecated and will raise in a future version. Use obj.ffill() or obj.bfill() instead.\n",
            "  game_data = game_data.fillna(method='ffill')\n",
            "<ipython-input-18-72b5c72dcafb>:30: FutureWarning: DataFrame.fillna with 'method' is deprecated and will raise in a future version. Use obj.ffill() or obj.bfill() instead.\n",
            "  game_data = game_data.fillna(method='ffill')\n"
          ]
        },
        {
          "output_type": "stream",
          "name": "stdout",
          "text": [
            "Loaded game 1 for subject 23\n",
            "Loaded game 2 for subject 23\n"
          ]
        },
        {
          "output_type": "stream",
          "name": "stderr",
          "text": [
            "<ipython-input-18-72b5c72dcafb>:30: FutureWarning: DataFrame.fillna with 'method' is deprecated and will raise in a future version. Use obj.ffill() or obj.bfill() instead.\n",
            "  game_data = game_data.fillna(method='ffill')\n",
            "<ipython-input-18-72b5c72dcafb>:30: FutureWarning: DataFrame.fillna with 'method' is deprecated and will raise in a future version. Use obj.ffill() or obj.bfill() instead.\n",
            "  game_data = game_data.fillna(method='ffill')\n"
          ]
        },
        {
          "output_type": "stream",
          "name": "stdout",
          "text": [
            "Loaded game 3 for subject 23\n",
            "Loaded game 4 for subject 23\n"
          ]
        },
        {
          "output_type": "stream",
          "name": "stderr",
          "text": [
            "<ipython-input-18-72b5c72dcafb>:30: FutureWarning: DataFrame.fillna with 'method' is deprecated and will raise in a future version. Use obj.ffill() or obj.bfill() instead.\n",
            "  game_data = game_data.fillna(method='ffill')\n",
            "<ipython-input-18-72b5c72dcafb>:30: FutureWarning: DataFrame.fillna with 'method' is deprecated and will raise in a future version. Use obj.ffill() or obj.bfill() instead.\n",
            "  game_data = game_data.fillna(method='ffill')\n"
          ]
        },
        {
          "output_type": "stream",
          "name": "stdout",
          "text": [
            "Loaded game 1 for subject 24\n",
            "Loaded game 2 for subject 24\n"
          ]
        },
        {
          "output_type": "stream",
          "name": "stderr",
          "text": [
            "<ipython-input-18-72b5c72dcafb>:30: FutureWarning: DataFrame.fillna with 'method' is deprecated and will raise in a future version. Use obj.ffill() or obj.bfill() instead.\n",
            "  game_data = game_data.fillna(method='ffill')\n",
            "<ipython-input-18-72b5c72dcafb>:30: FutureWarning: DataFrame.fillna with 'method' is deprecated and will raise in a future version. Use obj.ffill() or obj.bfill() instead.\n",
            "  game_data = game_data.fillna(method='ffill')\n"
          ]
        },
        {
          "output_type": "stream",
          "name": "stdout",
          "text": [
            "Loaded game 3 for subject 24\n",
            "Loaded game 4 for subject 24\n"
          ]
        },
        {
          "output_type": "stream",
          "name": "stderr",
          "text": [
            "<ipython-input-18-72b5c72dcafb>:30: FutureWarning: DataFrame.fillna with 'method' is deprecated and will raise in a future version. Use obj.ffill() or obj.bfill() instead.\n",
            "  game_data = game_data.fillna(method='ffill')\n",
            "<ipython-input-18-72b5c72dcafb>:30: FutureWarning: DataFrame.fillna with 'method' is deprecated and will raise in a future version. Use obj.ffill() or obj.bfill() instead.\n",
            "  game_data = game_data.fillna(method='ffill')\n"
          ]
        },
        {
          "output_type": "stream",
          "name": "stdout",
          "text": [
            "Loaded game 1 for subject 25\n",
            "Loaded game 2 for subject 25\n"
          ]
        },
        {
          "output_type": "stream",
          "name": "stderr",
          "text": [
            "<ipython-input-18-72b5c72dcafb>:30: FutureWarning: DataFrame.fillna with 'method' is deprecated and will raise in a future version. Use obj.ffill() or obj.bfill() instead.\n",
            "  game_data = game_data.fillna(method='ffill')\n"
          ]
        },
        {
          "output_type": "stream",
          "name": "stdout",
          "text": [
            "Loaded game 3 for subject 25\n",
            "Loaded game 4 for subject 25\n",
            "Missing file for game 1, subject 26\n",
            "Missing file for game 2, subject 26\n",
            "Missing file for game 3, subject 26\n",
            "Missing file for game 4, subject 26\n"
          ]
        },
        {
          "output_type": "stream",
          "name": "stderr",
          "text": [
            "<ipython-input-18-72b5c72dcafb>:30: FutureWarning: DataFrame.fillna with 'method' is deprecated and will raise in a future version. Use obj.ffill() or obj.bfill() instead.\n",
            "  game_data = game_data.fillna(method='ffill')\n",
            "<ipython-input-18-72b5c72dcafb>:30: FutureWarning: DataFrame.fillna with 'method' is deprecated and will raise in a future version. Use obj.ffill() or obj.bfill() instead.\n",
            "  game_data = game_data.fillna(method='ffill')\n"
          ]
        },
        {
          "output_type": "stream",
          "name": "stdout",
          "text": [
            "Loaded game 1 for subject 27\n",
            "Loaded game 2 for subject 27\n"
          ]
        },
        {
          "output_type": "stream",
          "name": "stderr",
          "text": [
            "<ipython-input-18-72b5c72dcafb>:30: FutureWarning: DataFrame.fillna with 'method' is deprecated and will raise in a future version. Use obj.ffill() or obj.bfill() instead.\n",
            "  game_data = game_data.fillna(method='ffill')\n",
            "<ipython-input-18-72b5c72dcafb>:30: FutureWarning: DataFrame.fillna with 'method' is deprecated and will raise in a future version. Use obj.ffill() or obj.bfill() instead.\n",
            "  game_data = game_data.fillna(method='ffill')\n"
          ]
        },
        {
          "output_type": "stream",
          "name": "stdout",
          "text": [
            "Loaded game 3 for subject 27\n",
            "Loaded game 4 for subject 27\n"
          ]
        },
        {
          "output_type": "stream",
          "name": "stderr",
          "text": [
            "<ipython-input-18-72b5c72dcafb>:30: FutureWarning: DataFrame.fillna with 'method' is deprecated and will raise in a future version. Use obj.ffill() or obj.bfill() instead.\n",
            "  game_data = game_data.fillna(method='ffill')\n",
            "<ipython-input-18-72b5c72dcafb>:30: FutureWarning: DataFrame.fillna with 'method' is deprecated and will raise in a future version. Use obj.ffill() or obj.bfill() instead.\n",
            "  game_data = game_data.fillna(method='ffill')\n"
          ]
        },
        {
          "output_type": "stream",
          "name": "stdout",
          "text": [
            "Loaded game 1 for subject 28\n",
            "Loaded game 2 for subject 28\n"
          ]
        },
        {
          "output_type": "stream",
          "name": "stderr",
          "text": [
            "<ipython-input-18-72b5c72dcafb>:30: FutureWarning: DataFrame.fillna with 'method' is deprecated and will raise in a future version. Use obj.ffill() or obj.bfill() instead.\n",
            "  game_data = game_data.fillna(method='ffill')\n",
            "<ipython-input-18-72b5c72dcafb>:30: FutureWarning: DataFrame.fillna with 'method' is deprecated and will raise in a future version. Use obj.ffill() or obj.bfill() instead.\n",
            "  game_data = game_data.fillna(method='ffill')\n"
          ]
        },
        {
          "output_type": "stream",
          "name": "stdout",
          "text": [
            "Loaded game 3 for subject 28\n",
            "Loaded game 4 for subject 28\n"
          ]
        },
        {
          "output_type": "stream",
          "name": "stderr",
          "text": [
            "<ipython-input-18-72b5c72dcafb>:30: FutureWarning: DataFrame.fillna with 'method' is deprecated and will raise in a future version. Use obj.ffill() or obj.bfill() instead.\n",
            "  game_data = game_data.fillna(method='ffill')\n"
          ]
        }
      ]
    },
    {
      "cell_type": "code",
      "source": [
        "\n",
        "\n",
        "def create_hybrid_model(input_shape):\n",
        "    model = Sequential([\n",
        "        # CNN layers\n",
        "        Conv1D(filters=64, kernel_size=3, activation='relu', input_shape=input_shape),\n",
        "        BatchNormalization(),\n",
        "        MaxPooling1D(pool_size=2),\n",
        "\n",
        "        Conv1D(filters=128, kernel_size=3, activation='relu'),\n",
        "        BatchNormalization(),\n",
        "        MaxPooling1D(pool_size=2),\n",
        "\n",
        "        # RNN layers\n",
        "        LSTM(128, return_sequences=True),\n",
        "        Dropout(0.2),\n",
        "        LSTM(64),\n",
        "        Dropout(0.2),\n",
        "\n",
        "        Dense(32, activation='relu'),\n",
        "        Dense(4, activation='softmax')\n",
        "    ])\n",
        "\n",
        "    model.compile(\n",
        "        optimizer='adam',\n",
        "        loss='sparse_categorical_crossentropy',\n",
        "        metrics=['accuracy']\n",
        "    )\n",
        "    return model"
      ],
      "metadata": {
        "id": "rCqvq0v93Kv3"
      },
      "execution_count": 19,
      "outputs": []
    },
    {
      "cell_type": "code",
      "source": [
        "\n",
        "\n",
        "print(\"\\nTraining Hybrid Model...\")\n",
        "hybrid_model = create_hybrid_model((X_train.shape[1], X_train.shape[2]))\n",
        "hybrid_history = hybrid_model.fit(\n",
        "    X_train, y_train,\n",
        "    validation_split=0.2,\n",
        "    epochs=50,\n",
        "    batch_size=32,\n",
        "    callbacks=[\n",
        "        tf.keras.callbacks.EarlyStopping(\n",
        "            monitor='val_loss',\n",
        "            patience=5,\n",
        "            restore_best_weights=True\n",
        "        )\n",
        "    ]\n",
        ")"
      ],
      "metadata": {
        "colab": {
          "base_uri": "https://localhost:8080/"
        },
        "id": "GfS4PK-I3NFg",
        "outputId": "ff8afa78-845e-41a3-960f-46f2fd901c60"
      },
      "execution_count": null,
      "outputs": [
        {
          "output_type": "stream",
          "name": "stdout",
          "text": [
            "\n",
            "Training Hybrid Model...\n"
          ]
        },
        {
          "output_type": "stream",
          "name": "stderr",
          "text": [
            "/usr/local/lib/python3.10/dist-packages/keras/src/layers/convolutional/base_conv.py:107: UserWarning: Do not pass an `input_shape`/`input_dim` argument to a layer. When using Sequential models, prefer using an `Input(shape)` object as the first layer in the model instead.\n",
            "  super().__init__(activity_regularizer=activity_regularizer, **kwargs)\n"
          ]
        },
        {
          "output_type": "stream",
          "name": "stdout",
          "text": [
            "Epoch 1/50\n",
            "\u001b[1m 263/1651\u001b[0m \u001b[32m━━━\u001b[0m\u001b[37m━━━━━━━━━━━━━━━━━\u001b[0m \u001b[1m19s\u001b[0m 14ms/step - accuracy: 0.3272 - loss: 1.3485"
          ]
        }
      ]
    }
  ]
}