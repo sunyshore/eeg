{
 "cells": [
  {
   "cell_type": "code",
   "execution_count": 7,
   "metadata": {},
   "outputs": [],
   "source": [
    "import os\n",
    "import pandas as pd"
   ]
  },
  {
   "cell_type": "code",
   "execution_count": 8,
   "metadata": {},
   "outputs": [
    {
     "name": "stdout",
     "output_type": "stream",
     "text": [
      "  subject trial trial_num  label             filename\n",
      "0    1_MB     2         4   left    1_MB_2_4_left.csv\n",
      "1    3_FJ     1        26   left   3_FJ_1_26_left.csv\n",
      "2    3_FJ     2        15   left   3_FJ_2_15_left.csv\n",
      "3    2_FA     4        19  front  2_FA_4_19_front.csv\n",
      "4    6_FC     1         7  front   6_FC_1_7_front.csv\n",
      "(720, 5)\n"
     ]
    }
   ],
   "source": [
    "\n",
    "\n",
    "# Folder containing the CSV files\n",
    "folder_path = \"/Users/mercy/Downloads/eeg/dataset_creation/datasets/all_splits\"\n",
    "\n",
    "# List to store extracted data\n",
    "data = []\n",
    "\n",
    "# Iterate through files in the folder\n",
    "for filename in os.listdir(folder_path):\n",
    "    if filename.endswith(\".csv\"):  # Ensure it's a CSV file\n",
    "        filename_copy = filename\n",
    "        parts = filename.split(\"_\")  # Split the filename by '_'\n",
    "        subject = parts[0] + \"_\" + parts[1]  # Combine first two parts (e.g., \"1_MB\")\n",
    "        trial = parts[2]  # Extract trial\n",
    "        trial_number = parts[3]  # Extract trial number\n",
    "        label = parts[4].replace(\".csv\", \"\")  # Remove .csv extension\n",
    "        \n",
    "        # Append to the list\n",
    "        data.append([subject, trial, trial_number, label, filename_copy])\n",
    "\n",
    "# Create dataframe\n",
    "df = pd.DataFrame(data, columns=[\"subject\", \"trial\", \"trial_num\", \"label\", 'filename'])\n",
    "\n",
    "# Display the first few rows\n",
    "print(df.head())\n",
    "print(df.shape)\n"
   ]
  }
 ],
 "metadata": {
  "kernelspec": {
   "display_name": "qmind2",
   "language": "python",
   "name": "python3"
  },
  "language_info": {
   "codemirror_mode": {
    "name": "ipython",
    "version": 3
   },
   "file_extension": ".py",
   "mimetype": "text/x-python",
   "name": "python",
   "nbconvert_exporter": "python",
   "pygments_lexer": "ipython3",
   "version": "3.9.17"
  }
 },
 "nbformat": 4,
 "nbformat_minor": 2
}
