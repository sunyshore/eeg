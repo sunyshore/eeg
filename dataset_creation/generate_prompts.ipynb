{
 "cells": [
  {
   "cell_type": "code",
   "execution_count": 59,
   "metadata": {},
   "outputs": [],
   "source": [
    "# !pip install moviepy\n",
    "import random\n",
    "import itertools\n",
    "from moviepy.video.compositing.CompositeVideoClip import concatenate_videoclips\n",
    "from moviepy.video.io.VideoFileClip import VideoFileClip"
   ]
  },
  {
   "cell_type": "code",
   "execution_count": 60,
   "metadata": {},
   "outputs": [
    {
     "name": "stdout",
     "output_type": "stream",
     "text": [
      "{'video_found': True, 'audio_found': True, 'metadata': {'major_brand': 'qt', 'minor_version': '0', 'compatible_brands': 'qt', 'creation_time': '2025-02-11T08:39:17.000000Z', 'keywords': '2024-06-08', 'title': 'Untitled Project 5', 'artist': 'Mercy', 'com.apple.quicktime.author': 'Mercy', 'com.apple.quicktime.keywords': '2024-06-08', 'com.apple.quicktime.displayname': 'Untitled Project 5', 'com.apple.quicktime.title': 'Untitled Project 5', 'com.apple.quicktime.description': 'This video is about Untitled Project 5'}, 'inputs': [{'streams': [{'input_number': 0, 'stream_number': 0, 'stream_type': 'audio', 'language': 'eng', 'default': True, 'fps': 48000, 'bitrate': 2304, 'metadata': {'Metadata': '', 'creation_time': '2025-02-11T08:39:17.000000Z', 'handler_name': 'Core Media Audio', 'vendor_id': '[0][0][0][0]'}}, {'input_number': 0, 'stream_number': 1, 'stream_type': 'video', 'language': None, 'default': True, 'size': [1280, 720], 'bitrate': 44, 'fps': 23.976023976023978, 'codec_name': 'hevc', 'profile': '(Main)', 'metadata': {'Metadata': '', 'creation_time': '2025-02-11T08:39:17.000000Z', 'handler_name': 'Core Media Video', 'vendor_id': '[0][0][0][0]', 'encoder': 'HEVC', 'timecode': '00:00:00:00'}}, {'input_number': 0, 'stream_number': 2, 'stream_type': 'data', 'language': None, 'default': True, 'metadata': {'Metadata': '', 'creation_time': '2025-02-11T08:39:17.000000Z', 'handler_name': 'Core Media Time Code', 'timecode': '00:00:00:00'}}, {'input_number': 0, 'stream_number': 3, 'stream_type': 'video', 'language': None, 'default': False, 'size': [1280, 720], 'bitrate': None, 'fps': 90000.0, 'codec_name': 'mjpeg', 'profile': '(Progressive)'}], 'input_number': 0}], 'duration': 5.01, 'bitrate': 2384, 'start': 0.0, 'default_audio_input_number': 0, 'default_audio_stream_number': 0, 'audio_fps': 48000, 'audio_bitrate': 2304, 'default_video_input_number': 0, 'default_video_stream_number': 1, 'video_codec_name': 'hevc', 'video_profile': '(Main)', 'video_size': [1280, 720], 'video_bitrate': 44, 'video_fps': 23.976023976023978, 'default_data_input_number': 0, 'default_data_stream_number': 2, 'video_duration': 5.01, 'video_n_frames': 120}\n",
      "/Users/mercy/opt/anaconda3/envs/qmind2/lib/python3.9/site-packages/imageio_ffmpeg/binaries/ffmpeg-macos-x86_64-v7.1 -i ./audios/frontat.mov -loglevel error -f image2pipe -vf scale=1280:720 -sws_flags bicubic -pix_fmt rgb24 -vcodec rawvideo -\n",
      "{'video_found': True, 'audio_found': True, 'metadata': {'major_brand': 'qt', 'minor_version': '0', 'compatible_brands': 'qt', 'creation_time': '2025-02-11T08:39:41.000000Z', 'keywords': '2024-06-08', 'title': 'Untitled Project 5', 'artist': 'Mercy', 'com.apple.quicktime.author': 'Mercy', 'com.apple.quicktime.keywords': '2024-06-08', 'com.apple.quicktime.displayname': 'Untitled Project 5', 'com.apple.quicktime.title': 'Untitled Project 5', 'com.apple.quicktime.description': 'This video is about Untitled Project 5'}, 'inputs': [{'streams': [{'input_number': 0, 'stream_number': 0, 'stream_type': 'audio', 'language': 'eng', 'default': True, 'fps': 48000, 'bitrate': 2304, 'metadata': {'Metadata': '', 'creation_time': '2025-02-11T08:39:41.000000Z', 'handler_name': 'Core Media Audio', 'vendor_id': '[0][0][0][0]'}}, {'input_number': 0, 'stream_number': 1, 'stream_type': 'video', 'language': None, 'default': True, 'size': [1280, 720], 'bitrate': 37, 'fps': 23.976023976023978, 'codec_name': 'hevc', 'profile': '(Main)', 'metadata': {'Metadata': '', 'creation_time': '2025-02-11T08:39:41.000000Z', 'handler_name': 'Core Media Video', 'vendor_id': '[0][0][0][0]', 'encoder': 'HEVC', 'timecode': '00:00:00:00'}}, {'input_number': 0, 'stream_number': 2, 'stream_type': 'data', 'language': None, 'default': True, 'metadata': {'Metadata': '', 'creation_time': '2025-02-11T08:39:41.000000Z', 'handler_name': 'Core Media Time Code', 'timecode': '00:00:00:00'}}, {'input_number': 0, 'stream_number': 3, 'stream_type': 'video', 'language': None, 'default': False, 'size': [1280, 720], 'bitrate': None, 'fps': 90000.0, 'codec_name': 'mjpeg', 'profile': '(Progressive)'}], 'input_number': 0}], 'duration': 5.01, 'bitrate': 2371, 'start': 0.0, 'default_audio_input_number': 0, 'default_audio_stream_number': 0, 'audio_fps': 48000, 'audio_bitrate': 2304, 'default_video_input_number': 0, 'default_video_stream_number': 1, 'video_codec_name': 'hevc', 'video_profile': '(Main)', 'video_size': [1280, 720], 'video_bitrate': 37, 'video_fps': 23.976023976023978, 'default_data_input_number': 0, 'default_data_stream_number': 2, 'video_duration': 5.01, 'video_n_frames': 120}\n",
      "/Users/mercy/opt/anaconda3/envs/qmind2/lib/python3.9/site-packages/imageio_ffmpeg/binaries/ffmpeg-macos-x86_64-v7.1 -i ./audios/leftat.mov -loglevel error -f image2pipe -vf scale=1280:720 -sws_flags bicubic -pix_fmt rgb24 -vcodec rawvideo -\n"
     ]
    },
    {
     "name": "stderr",
     "output_type": "stream",
     "text": [
      "\n",
      "\n",
      "                                                                  \n",
      "\u001b[A                                                               \n",
      "chunk:  20%|█▉        | 109/553 [08:47<35:48,  4.84s/it, now=None]\n",
      "\n",
      "                                                                  \n",
      "\u001b[A                                                               \n",
      "chunk:  20%|█▉        | 109/553 [08:47<35:48,  4.84s/it, now=None]"
     ]
    },
    {
     "name": "stdout",
     "output_type": "stream",
     "text": [
      "{'video_found': True, 'audio_found': True, 'metadata': {'major_brand': 'qt', 'minor_version': '0', 'compatible_brands': 'qt', 'creation_time': '2025-02-11T08:40:02.000000Z', 'keywords': '2024-06-08', 'title': 'Untitled Project 5', 'artist': 'Mercy', 'com.apple.quicktime.author': 'Mercy', 'com.apple.quicktime.keywords': '2024-06-08', 'com.apple.quicktime.displayname': 'Untitled Project 5', 'com.apple.quicktime.title': 'Untitled Project 5', 'com.apple.quicktime.description': 'This video is about Untitled Project 5'}, 'inputs': [{'streams': [{'input_number': 0, 'stream_number': 0, 'stream_type': 'audio', 'language': 'eng', 'default': True, 'fps': 48000, 'bitrate': 2304, 'metadata': {'Metadata': '', 'creation_time': '2025-02-11T08:40:02.000000Z', 'handler_name': 'Core Media Audio', 'vendor_id': '[0][0][0][0]'}}, {'input_number': 0, 'stream_number': 1, 'stream_type': 'video', 'language': None, 'default': True, 'size': [1280, 720], 'bitrate': 42, 'fps': 23.976023976023978, 'codec_name': 'hevc', 'profile': '(Main)', 'metadata': {'Metadata': '', 'creation_time': '2025-02-11T08:40:02.000000Z', 'handler_name': 'Core Media Video', 'vendor_id': '[0][0][0][0]', 'encoder': 'HEVC', 'timecode': '00:00:00:00'}}, {'input_number': 0, 'stream_number': 2, 'stream_type': 'data', 'language': None, 'default': True, 'metadata': {'Metadata': '', 'creation_time': '2025-02-11T08:40:02.000000Z', 'handler_name': 'Core Media Time Code', 'timecode': '00:00:00:00'}}, {'input_number': 0, 'stream_number': 3, 'stream_type': 'video', 'language': None, 'default': False, 'size': [1280, 720], 'bitrate': None, 'fps': 90000.0, 'codec_name': 'mjpeg', 'profile': '(Progressive)'}], 'input_number': 0}], 'duration': 5.01, 'bitrate': 2380, 'start': 0.0, 'default_audio_input_number': 0, 'default_audio_stream_number': 0, 'audio_fps': 48000, 'audio_bitrate': 2304, 'default_video_input_number': 0, 'default_video_stream_number': 1, 'video_codec_name': 'hevc', 'video_profile': '(Main)', 'video_size': [1280, 720], 'video_bitrate': 42, 'video_fps': 23.976023976023978, 'default_data_input_number': 0, 'default_data_stream_number': 2, 'video_duration': 5.01, 'video_n_frames': 120}\n",
      "/Users/mercy/opt/anaconda3/envs/qmind2/lib/python3.9/site-packages/imageio_ffmpeg/binaries/ffmpeg-macos-x86_64-v7.1 -i ./audios/rightat.mov -loglevel error -f image2pipe -vf scale=1280:720 -sws_flags bicubic -pix_fmt rgb24 -vcodec rawvideo -\n",
      "MoviePy - Building video output.mp4.\n",
      "MoviePy - Writing audio in outputTEMP_MPY_wvf_snd.mp4\n"
     ]
    },
    {
     "name": "stderr",
     "output_type": "stream",
     "text": [
      "\n",
      "\n",
      "\u001b[A\u001b[A\n",
      "\n",
      "\u001b[A\u001b[A\n",
      "\n",
      "\u001b[A\u001b[A\n",
      "\n",
      "\u001b[A\u001b[A\n",
      "\n",
      "\u001b[A\u001b[A\n",
      "\n",
      "\u001b[A\u001b[A\n",
      "\n",
      "\u001b[A\u001b[A\n",
      "\n",
      "\u001b[A\u001b[A\n",
      "\n",
      "\u001b[A\u001b[A\n",
      "\n",
      "\u001b[A\u001b[A\n",
      "\n",
      "\u001b[A\u001b[A\n",
      "\n",
      "\u001b[A\u001b[A\n",
      "\n",
      "\u001b[A\u001b[A\n",
      "\n",
      "\u001b[A\u001b[A\n",
      "\n",
      "\u001b[A\u001b[A\n",
      "\n",
      "\u001b[A\u001b[A\n",
      "\n",
      "\u001b[A\u001b[A\n",
      "\n",
      "\u001b[A\u001b[A\n",
      "\n",
      "\u001b[A\u001b[A\n",
      "\n",
      "\u001b[A\u001b[A\n",
      "\n",
      "\u001b[A\u001b[A\n",
      "\n",
      "\u001b[A\u001b[A\n",
      "\n",
      "\u001b[A\u001b[A\n",
      "\n",
      "                                                                  \n",
      "\u001b[A                                                               \n",
      "chunk:  20%|█▉        | 109/553 [08:50<35:58,  4.86s/it, now=None]\n",
      "\n",
      "                                                                  \n",
      "\u001b[A                                                               \n",
      "chunk:  20%|█▉        | 109/553 [08:50<35:59,  4.86s/it, now=None]"
     ]
    },
    {
     "name": "stdout",
     "output_type": "stream",
     "text": [
      "MoviePy - Done.\n",
      "MoviePy - Writing video output.mp4\n",
      "\n"
     ]
    },
    {
     "name": "stderr",
     "output_type": "stream",
     "text": [
      "\n",
      "\n",
      "\u001b[A\u001b[A\n",
      "\n",
      "\u001b[A\u001b[A\n",
      "\n",
      "\u001b[A\u001b[A\n",
      "\n",
      "\u001b[A\u001b[A\n",
      "\n",
      "\u001b[A\u001b[A\n",
      "\n",
      "\u001b[A\u001b[A\n",
      "\n",
      "\u001b[A\u001b[A\n",
      "\n",
      "\u001b[A\u001b[A\n",
      "\n",
      "\u001b[A\u001b[A\n",
      "\n",
      "\u001b[A\u001b[A\n",
      "\n",
      "\u001b[A\u001b[A\n",
      "\n",
      "\u001b[A\u001b[A\n",
      "\n",
      "\u001b[A\u001b[A\n",
      "\n",
      "\u001b[A\u001b[A"
     ]
    },
    {
     "name": "stdout",
     "output_type": "stream",
     "text": [
      "{'video_found': True, 'audio_found': True, 'metadata': {'major_brand': 'qt', 'minor_version': '0', 'compatible_brands': 'qt', 'creation_time': '2025-02-11T08:39:41.000000Z', 'keywords': '2024-06-08', 'title': 'Untitled Project 5', 'artist': 'Mercy', 'com.apple.quicktime.author': 'Mercy', 'com.apple.quicktime.keywords': '2024-06-08', 'com.apple.quicktime.displayname': 'Untitled Project 5', 'com.apple.quicktime.title': 'Untitled Project 5', 'com.apple.quicktime.description': 'This video is about Untitled Project 5'}, 'inputs': [{'streams': [{'input_number': 0, 'stream_number': 0, 'stream_type': 'audio', 'language': 'eng', 'default': True, 'fps': 48000, 'bitrate': 2304, 'metadata': {'Metadata': '', 'creation_time': '2025-02-11T08:39:41.000000Z', 'handler_name': 'Core Media Audio', 'vendor_id': '[0][0][0][0]'}}, {'input_number': 0, 'stream_number': 1, 'stream_type': 'video', 'language': None, 'default': True, 'size': [1280, 720], 'bitrate': 37, 'fps': 23.976023976023978, 'codec_name': 'hevc', 'profile': '(Main)', 'metadata': {'Metadata': '', 'creation_time': '2025-02-11T08:39:41.000000Z', 'handler_name': 'Core Media Video', 'vendor_id': '[0][0][0][0]', 'encoder': 'HEVC', 'timecode': '00:00:00:00'}}, {'input_number': 0, 'stream_number': 2, 'stream_type': 'data', 'language': None, 'default': True, 'metadata': {'Metadata': '', 'creation_time': '2025-02-11T08:39:41.000000Z', 'handler_name': 'Core Media Time Code', 'timecode': '00:00:00:00'}}, {'input_number': 0, 'stream_number': 3, 'stream_type': 'video', 'language': None, 'default': False, 'size': [1280, 720], 'bitrate': None, 'fps': 90000.0, 'codec_name': 'mjpeg', 'profile': '(Progressive)'}], 'input_number': 0}], 'duration': 5.01, 'bitrate': 2371, 'start': 0.0, 'default_audio_input_number': 0, 'default_audio_stream_number': 0, 'audio_fps': 48000, 'audio_bitrate': 2304, 'default_video_input_number': 0, 'default_video_stream_number': 1, 'video_codec_name': 'hevc', 'video_profile': '(Main)', 'video_size': [1280, 720], 'video_bitrate': 37, 'video_fps': 23.976023976023978, 'default_data_input_number': 0, 'default_data_stream_number': 2, 'video_duration': 5.01, 'video_n_frames': 120}\n",
      "/Users/mercy/opt/anaconda3/envs/qmind2/lib/python3.9/site-packages/imageio_ffmpeg/binaries/ffmpeg-macos-x86_64-v7.1 -ss 0.000000 -i ./audios/leftat.mov -ss 0.021667 -loglevel error -f image2pipe -vf scale=1280:720 -sws_flags bicubic -pix_fmt rgb24 -vcodec rawvideo -\n"
     ]
    },
    {
     "name": "stderr",
     "output_type": "stream",
     "text": [
      "\n",
      "\n",
      "\u001b[A\u001b[A\n",
      "\n",
      "\u001b[A\u001b[A\n",
      "\n",
      "\u001b[A\u001b[A\n",
      "\n",
      "\u001b[A\u001b[A\n",
      "\n",
      "\u001b[A\u001b[A"
     ]
    },
    {
     "name": "stdout",
     "output_type": "stream",
     "text": [
      "{'video_found': True, 'audio_found': True, 'metadata': {'major_brand': 'qt', 'minor_version': '0', 'compatible_brands': 'qt', 'creation_time': '2025-02-11T08:39:17.000000Z', 'keywords': '2024-06-08', 'title': 'Untitled Project 5', 'artist': 'Mercy', 'com.apple.quicktime.author': 'Mercy', 'com.apple.quicktime.keywords': '2024-06-08', 'com.apple.quicktime.displayname': 'Untitled Project 5', 'com.apple.quicktime.title': 'Untitled Project 5', 'com.apple.quicktime.description': 'This video is about Untitled Project 5'}, 'inputs': [{'streams': [{'input_number': 0, 'stream_number': 0, 'stream_type': 'audio', 'language': 'eng', 'default': True, 'fps': 48000, 'bitrate': 2304, 'metadata': {'Metadata': '', 'creation_time': '2025-02-11T08:39:17.000000Z', 'handler_name': 'Core Media Audio', 'vendor_id': '[0][0][0][0]'}}, {'input_number': 0, 'stream_number': 1, 'stream_type': 'video', 'language': None, 'default': True, 'size': [1280, 720], 'bitrate': 44, 'fps': 23.976023976023978, 'codec_name': 'hevc', 'profile': '(Main)', 'metadata': {'Metadata': '', 'creation_time': '2025-02-11T08:39:17.000000Z', 'handler_name': 'Core Media Video', 'vendor_id': '[0][0][0][0]', 'encoder': 'HEVC', 'timecode': '00:00:00:00'}}, {'input_number': 0, 'stream_number': 2, 'stream_type': 'data', 'language': None, 'default': True, 'metadata': {'Metadata': '', 'creation_time': '2025-02-11T08:39:17.000000Z', 'handler_name': 'Core Media Time Code', 'timecode': '00:00:00:00'}}, {'input_number': 0, 'stream_number': 3, 'stream_type': 'video', 'language': None, 'default': False, 'size': [1280, 720], 'bitrate': None, 'fps': 90000.0, 'codec_name': 'mjpeg', 'profile': '(Progressive)'}], 'input_number': 0}], 'duration': 5.01, 'bitrate': 2384, 'start': 0.0, 'default_audio_input_number': 0, 'default_audio_stream_number': 0, 'audio_fps': 48000, 'audio_bitrate': 2304, 'default_video_input_number': 0, 'default_video_stream_number': 1, 'video_codec_name': 'hevc', 'video_profile': '(Main)', 'video_size': [1280, 720], 'video_bitrate': 44, 'video_fps': 23.976023976023978, 'default_data_input_number': 0, 'default_data_stream_number': 2, 'video_duration': 5.01, 'video_n_frames': 120}\n",
      "/Users/mercy/opt/anaconda3/envs/qmind2/lib/python3.9/site-packages/imageio_ffmpeg/binaries/ffmpeg-macos-x86_64-v7.1 -ss 0.000000 -i ./audios/frontat.mov -ss 0.011667 -loglevel error -f image2pipe -vf scale=1280:720 -sws_flags bicubic -pix_fmt rgb24 -vcodec rawvideo -\n"
     ]
    },
    {
     "name": "stderr",
     "output_type": "stream",
     "text": [
      "\n",
      "\n",
      "\u001b[A\u001b[A\n",
      "\n",
      "\u001b[A\u001b[A\n",
      "\n",
      "\u001b[A\u001b[A\n",
      "\n",
      "\u001b[A\u001b[A\n",
      "\n",
      "\u001b[A\u001b[A"
     ]
    },
    {
     "name": "stdout",
     "output_type": "stream",
     "text": [
      "{'video_found': True, 'audio_found': True, 'metadata': {'major_brand': 'qt', 'minor_version': '0', 'compatible_brands': 'qt', 'creation_time': '2025-02-11T08:39:41.000000Z', 'keywords': '2024-06-08', 'title': 'Untitled Project 5', 'artist': 'Mercy', 'com.apple.quicktime.author': 'Mercy', 'com.apple.quicktime.keywords': '2024-06-08', 'com.apple.quicktime.displayname': 'Untitled Project 5', 'com.apple.quicktime.title': 'Untitled Project 5', 'com.apple.quicktime.description': 'This video is about Untitled Project 5'}, 'inputs': [{'streams': [{'input_number': 0, 'stream_number': 0, 'stream_type': 'audio', 'language': 'eng', 'default': True, 'fps': 48000, 'bitrate': 2304, 'metadata': {'Metadata': '', 'creation_time': '2025-02-11T08:39:41.000000Z', 'handler_name': 'Core Media Audio', 'vendor_id': '[0][0][0][0]'}}, {'input_number': 0, 'stream_number': 1, 'stream_type': 'video', 'language': None, 'default': True, 'size': [1280, 720], 'bitrate': 37, 'fps': 23.976023976023978, 'codec_name': 'hevc', 'profile': '(Main)', 'metadata': {'Metadata': '', 'creation_time': '2025-02-11T08:39:41.000000Z', 'handler_name': 'Core Media Video', 'vendor_id': '[0][0][0][0]', 'encoder': 'HEVC', 'timecode': '00:00:00:00'}}, {'input_number': 0, 'stream_number': 2, 'stream_type': 'data', 'language': None, 'default': True, 'metadata': {'Metadata': '', 'creation_time': '2025-02-11T08:39:41.000000Z', 'handler_name': 'Core Media Time Code', 'timecode': '00:00:00:00'}}, {'input_number': 0, 'stream_number': 3, 'stream_type': 'video', 'language': None, 'default': False, 'size': [1280, 720], 'bitrate': None, 'fps': 90000.0, 'codec_name': 'mjpeg', 'profile': '(Progressive)'}], 'input_number': 0}], 'duration': 5.01, 'bitrate': 2371, 'start': 0.0, 'default_audio_input_number': 0, 'default_audio_stream_number': 0, 'audio_fps': 48000, 'audio_bitrate': 2304, 'default_video_input_number': 0, 'default_video_stream_number': 1, 'video_codec_name': 'hevc', 'video_profile': '(Main)', 'video_size': [1280, 720], 'video_bitrate': 37, 'video_fps': 23.976023976023978, 'default_data_input_number': 0, 'default_data_stream_number': 2, 'video_duration': 5.01, 'video_n_frames': 120}\n",
      "/Users/mercy/opt/anaconda3/envs/qmind2/lib/python3.9/site-packages/imageio_ffmpeg/binaries/ffmpeg-macos-x86_64-v7.1 -ss 0.000000 -i ./audios/leftat.mov -ss 0.001667 -loglevel error -f image2pipe -vf scale=1280:720 -sws_flags bicubic -pix_fmt rgb24 -vcodec rawvideo -\n"
     ]
    },
    {
     "name": "stderr",
     "output_type": "stream",
     "text": [
      "\n",
      "\n",
      "\u001b[A\u001b[A\n",
      "\n",
      "\u001b[A\u001b[A\n",
      "\n",
      "\u001b[A\u001b[A\n",
      "\n",
      "\u001b[A\u001b[A\n",
      "\n",
      "\u001b[A\u001b[A"
     ]
    },
    {
     "name": "stdout",
     "output_type": "stream",
     "text": [
      "{'video_found': True, 'audio_found': True, 'metadata': {'major_brand': 'qt', 'minor_version': '0', 'compatible_brands': 'qt', 'creation_time': '2025-02-11T08:39:41.000000Z', 'keywords': '2024-06-08', 'title': 'Untitled Project 5', 'artist': 'Mercy', 'com.apple.quicktime.author': 'Mercy', 'com.apple.quicktime.keywords': '2024-06-08', 'com.apple.quicktime.displayname': 'Untitled Project 5', 'com.apple.quicktime.title': 'Untitled Project 5', 'com.apple.quicktime.description': 'This video is about Untitled Project 5'}, 'inputs': [{'streams': [{'input_number': 0, 'stream_number': 0, 'stream_type': 'audio', 'language': 'eng', 'default': True, 'fps': 48000, 'bitrate': 2304, 'metadata': {'Metadata': '', 'creation_time': '2025-02-11T08:39:41.000000Z', 'handler_name': 'Core Media Audio', 'vendor_id': '[0][0][0][0]'}}, {'input_number': 0, 'stream_number': 1, 'stream_type': 'video', 'language': None, 'default': True, 'size': [1280, 720], 'bitrate': 37, 'fps': 23.976023976023978, 'codec_name': 'hevc', 'profile': '(Main)', 'metadata': {'Metadata': '', 'creation_time': '2025-02-11T08:39:41.000000Z', 'handler_name': 'Core Media Video', 'vendor_id': '[0][0][0][0]', 'encoder': 'HEVC', 'timecode': '00:00:00:00'}}, {'input_number': 0, 'stream_number': 2, 'stream_type': 'data', 'language': None, 'default': True, 'metadata': {'Metadata': '', 'creation_time': '2025-02-11T08:39:41.000000Z', 'handler_name': 'Core Media Time Code', 'timecode': '00:00:00:00'}}, {'input_number': 0, 'stream_number': 3, 'stream_type': 'video', 'language': None, 'default': False, 'size': [1280, 720], 'bitrate': None, 'fps': 90000.0, 'codec_name': 'mjpeg', 'profile': '(Progressive)'}], 'input_number': 0}], 'duration': 5.01, 'bitrate': 2371, 'start': 0.0, 'default_audio_input_number': 0, 'default_audio_stream_number': 0, 'audio_fps': 48000, 'audio_bitrate': 2304, 'default_video_input_number': 0, 'default_video_stream_number': 1, 'video_codec_name': 'hevc', 'video_profile': '(Main)', 'video_size': [1280, 720], 'video_bitrate': 37, 'video_fps': 23.976023976023978, 'default_data_input_number': 0, 'default_data_stream_number': 2, 'video_duration': 5.01, 'video_n_frames': 120}\n",
      "/Users/mercy/opt/anaconda3/envs/qmind2/lib/python3.9/site-packages/imageio_ffmpeg/binaries/ffmpeg-macos-x86_64-v7.1 -ss 0.000000 -i ./audios/leftat.mov -ss 0.033333 -loglevel error -f image2pipe -vf scale=1280:720 -sws_flags bicubic -pix_fmt rgb24 -vcodec rawvideo -\n"
     ]
    },
    {
     "name": "stderr",
     "output_type": "stream",
     "text": [
      "\n",
      "\n",
      "\u001b[A\u001b[A\n",
      "\n",
      "\u001b[A\u001b[A\n",
      "\n",
      "\u001b[A\u001b[A\n",
      "\n",
      "\u001b[A\u001b[A\n",
      "\n",
      "\u001b[A\u001b[A\n",
      "\n",
      "\u001b[A\u001b[A\n",
      "\n",
      "\u001b[A\u001b[A\n",
      "\n",
      "\u001b[A\u001b[A\n",
      "\n",
      "\u001b[A\u001b[A"
     ]
    },
    {
     "name": "stdout",
     "output_type": "stream",
     "text": [
      "{'video_found': True, 'audio_found': True, 'metadata': {'major_brand': 'qt', 'minor_version': '0', 'compatible_brands': 'qt', 'creation_time': '2025-02-11T08:39:41.000000Z', 'keywords': '2024-06-08', 'title': 'Untitled Project 5', 'artist': 'Mercy', 'com.apple.quicktime.author': 'Mercy', 'com.apple.quicktime.keywords': '2024-06-08', 'com.apple.quicktime.displayname': 'Untitled Project 5', 'com.apple.quicktime.title': 'Untitled Project 5', 'com.apple.quicktime.description': 'This video is about Untitled Project 5'}, 'inputs': [{'streams': [{'input_number': 0, 'stream_number': 0, 'stream_type': 'audio', 'language': 'eng', 'default': True, 'fps': 48000, 'bitrate': 2304, 'metadata': {'Metadata': '', 'creation_time': '2025-02-11T08:39:41.000000Z', 'handler_name': 'Core Media Audio', 'vendor_id': '[0][0][0][0]'}}, {'input_number': 0, 'stream_number': 1, 'stream_type': 'video', 'language': None, 'default': True, 'size': [1280, 720], 'bitrate': 37, 'fps': 23.976023976023978, 'codec_name': 'hevc', 'profile': '(Main)', 'metadata': {'Metadata': '', 'creation_time': '2025-02-11T08:39:41.000000Z', 'handler_name': 'Core Media Video', 'vendor_id': '[0][0][0][0]', 'encoder': 'HEVC', 'timecode': '00:00:00:00'}}, {'input_number': 0, 'stream_number': 2, 'stream_type': 'data', 'language': None, 'default': True, 'metadata': {'Metadata': '', 'creation_time': '2025-02-11T08:39:41.000000Z', 'handler_name': 'Core Media Time Code', 'timecode': '00:00:00:00'}}, {'input_number': 0, 'stream_number': 3, 'stream_type': 'video', 'language': None, 'default': False, 'size': [1280, 720], 'bitrate': None, 'fps': 90000.0, 'codec_name': 'mjpeg', 'profile': '(Progressive)'}], 'input_number': 0}], 'duration': 5.01, 'bitrate': 2371, 'start': 0.0, 'default_audio_input_number': 0, 'default_audio_stream_number': 0, 'audio_fps': 48000, 'audio_bitrate': 2304, 'default_video_input_number': 0, 'default_video_stream_number': 1, 'video_codec_name': 'hevc', 'video_profile': '(Main)', 'video_size': [1280, 720], 'video_bitrate': 37, 'video_fps': 23.976023976023978, 'default_data_input_number': 0, 'default_data_stream_number': 2, 'video_duration': 5.01, 'video_n_frames': 120}\n",
      "/Users/mercy/opt/anaconda3/envs/qmind2/lib/python3.9/site-packages/imageio_ffmpeg/binaries/ffmpeg-macos-x86_64-v7.1 -ss 0.000000 -i ./audios/leftat.mov -ss 0.013333 -loglevel error -f image2pipe -vf scale=1280:720 -sws_flags bicubic -pix_fmt rgb24 -vcodec rawvideo -\n"
     ]
    },
    {
     "name": "stderr",
     "output_type": "stream",
     "text": [
      "\n",
      "\n",
      "\u001b[A\u001b[A\n",
      "\n",
      "\u001b[A\u001b[A\n",
      "\n",
      "\u001b[A\u001b[A\n",
      "\n",
      "\u001b[A\u001b[A\n",
      "\n",
      "\u001b[A\u001b[A"
     ]
    },
    {
     "name": "stdout",
     "output_type": "stream",
     "text": [
      "{'video_found': True, 'audio_found': True, 'metadata': {'major_brand': 'qt', 'minor_version': '0', 'compatible_brands': 'qt', 'creation_time': '2025-02-11T08:40:02.000000Z', 'keywords': '2024-06-08', 'title': 'Untitled Project 5', 'artist': 'Mercy', 'com.apple.quicktime.author': 'Mercy', 'com.apple.quicktime.keywords': '2024-06-08', 'com.apple.quicktime.displayname': 'Untitled Project 5', 'com.apple.quicktime.title': 'Untitled Project 5', 'com.apple.quicktime.description': 'This video is about Untitled Project 5'}, 'inputs': [{'streams': [{'input_number': 0, 'stream_number': 0, 'stream_type': 'audio', 'language': 'eng', 'default': True, 'fps': 48000, 'bitrate': 2304, 'metadata': {'Metadata': '', 'creation_time': '2025-02-11T08:40:02.000000Z', 'handler_name': 'Core Media Audio', 'vendor_id': '[0][0][0][0]'}}, {'input_number': 0, 'stream_number': 1, 'stream_type': 'video', 'language': None, 'default': True, 'size': [1280, 720], 'bitrate': 42, 'fps': 23.976023976023978, 'codec_name': 'hevc', 'profile': '(Main)', 'metadata': {'Metadata': '', 'creation_time': '2025-02-11T08:40:02.000000Z', 'handler_name': 'Core Media Video', 'vendor_id': '[0][0][0][0]', 'encoder': 'HEVC', 'timecode': '00:00:00:00'}}, {'input_number': 0, 'stream_number': 2, 'stream_type': 'data', 'language': None, 'default': True, 'metadata': {'Metadata': '', 'creation_time': '2025-02-11T08:40:02.000000Z', 'handler_name': 'Core Media Time Code', 'timecode': '00:00:00:00'}}, {'input_number': 0, 'stream_number': 3, 'stream_type': 'video', 'language': None, 'default': False, 'size': [1280, 720], 'bitrate': None, 'fps': 90000.0, 'codec_name': 'mjpeg', 'profile': '(Progressive)'}], 'input_number': 0}], 'duration': 5.01, 'bitrate': 2380, 'start': 0.0, 'default_audio_input_number': 0, 'default_audio_stream_number': 0, 'audio_fps': 48000, 'audio_bitrate': 2304, 'default_video_input_number': 0, 'default_video_stream_number': 1, 'video_codec_name': 'hevc', 'video_profile': '(Main)', 'video_size': [1280, 720], 'video_bitrate': 42, 'video_fps': 23.976023976023978, 'default_data_input_number': 0, 'default_data_stream_number': 2, 'video_duration': 5.01, 'video_n_frames': 120}\n",
      "/Users/mercy/opt/anaconda3/envs/qmind2/lib/python3.9/site-packages/imageio_ffmpeg/binaries/ffmpeg-macos-x86_64-v7.1 -ss 0.000000 -i ./audios/rightat.mov -ss 0.003333 -loglevel error -f image2pipe -vf scale=1280:720 -sws_flags bicubic -pix_fmt rgb24 -vcodec rawvideo -\n"
     ]
    },
    {
     "name": "stderr",
     "output_type": "stream",
     "text": [
      "\n",
      "\n",
      "\u001b[A\u001b[A\n",
      "\n",
      "\u001b[A\u001b[A\n",
      "\n",
      "\u001b[A\u001b[A\n",
      "\n",
      "\u001b[A\u001b[A\n",
      "\n",
      "\u001b[A\u001b[A"
     ]
    },
    {
     "name": "stdout",
     "output_type": "stream",
     "text": [
      "{'video_found': True, 'audio_found': True, 'metadata': {'major_brand': 'qt', 'minor_version': '0', 'compatible_brands': 'qt', 'creation_time': '2025-02-11T08:40:02.000000Z', 'keywords': '2024-06-08', 'title': 'Untitled Project 5', 'artist': 'Mercy', 'com.apple.quicktime.author': 'Mercy', 'com.apple.quicktime.keywords': '2024-06-08', 'com.apple.quicktime.displayname': 'Untitled Project 5', 'com.apple.quicktime.title': 'Untitled Project 5', 'com.apple.quicktime.description': 'This video is about Untitled Project 5'}, 'inputs': [{'streams': [{'input_number': 0, 'stream_number': 0, 'stream_type': 'audio', 'language': 'eng', 'default': True, 'fps': 48000, 'bitrate': 2304, 'metadata': {'Metadata': '', 'creation_time': '2025-02-11T08:40:02.000000Z', 'handler_name': 'Core Media Audio', 'vendor_id': '[0][0][0][0]'}}, {'input_number': 0, 'stream_number': 1, 'stream_type': 'video', 'language': None, 'default': True, 'size': [1280, 720], 'bitrate': 42, 'fps': 23.976023976023978, 'codec_name': 'hevc', 'profile': '(Main)', 'metadata': {'Metadata': '', 'creation_time': '2025-02-11T08:40:02.000000Z', 'handler_name': 'Core Media Video', 'vendor_id': '[0][0][0][0]', 'encoder': 'HEVC', 'timecode': '00:00:00:00'}}, {'input_number': 0, 'stream_number': 2, 'stream_type': 'data', 'language': None, 'default': True, 'metadata': {'Metadata': '', 'creation_time': '2025-02-11T08:40:02.000000Z', 'handler_name': 'Core Media Time Code', 'timecode': '00:00:00:00'}}, {'input_number': 0, 'stream_number': 3, 'stream_type': 'video', 'language': None, 'default': False, 'size': [1280, 720], 'bitrate': None, 'fps': 90000.0, 'codec_name': 'mjpeg', 'profile': '(Progressive)'}], 'input_number': 0}], 'duration': 5.01, 'bitrate': 2380, 'start': 0.0, 'default_audio_input_number': 0, 'default_audio_stream_number': 0, 'audio_fps': 48000, 'audio_bitrate': 2304, 'default_video_input_number': 0, 'default_video_stream_number': 1, 'video_codec_name': 'hevc', 'video_profile': '(Main)', 'video_size': [1280, 720], 'video_bitrate': 42, 'video_fps': 23.976023976023978, 'default_data_input_number': 0, 'default_data_stream_number': 2, 'video_duration': 5.01, 'video_n_frames': 120}\n",
      "/Users/mercy/opt/anaconda3/envs/qmind2/lib/python3.9/site-packages/imageio_ffmpeg/binaries/ffmpeg-macos-x86_64-v7.1 -ss 0.000000 -i ./audios/rightat.mov -ss 0.035000 -loglevel error -f image2pipe -vf scale=1280:720 -sws_flags bicubic -pix_fmt rgb24 -vcodec rawvideo -\n"
     ]
    },
    {
     "name": "stderr",
     "output_type": "stream",
     "text": [
      "\n",
      "\n",
      "\u001b[A\u001b[A\n",
      "\n",
      "\u001b[A\u001b[A\n",
      "\n",
      "\u001b[A\u001b[A/Users/mercy/opt/anaconda3/envs/qmind2/lib/python3.9/site-packages/moviepy/video/io/ffmpeg_reader.py:178: UserWarning: In file ./audios/rightat.mov, 2764800 bytes wanted but 0 bytes read at frame index 119 (out of a total 120 frames), at time 4.96/5.01 sec. Using the last valid frame instead.\n",
      "  warnings.warn(\n",
      "\n",
      "\n",
      "\u001b[A\u001b[A"
     ]
    },
    {
     "name": "stdout",
     "output_type": "stream",
     "text": [
      "{'video_found': True, 'audio_found': True, 'metadata': {'major_brand': 'qt', 'minor_version': '0', 'compatible_brands': 'qt', 'creation_time': '2025-02-11T08:40:02.000000Z', 'keywords': '2024-06-08', 'title': 'Untitled Project 5', 'artist': 'Mercy', 'com.apple.quicktime.author': 'Mercy', 'com.apple.quicktime.keywords': '2024-06-08', 'com.apple.quicktime.displayname': 'Untitled Project 5', 'com.apple.quicktime.title': 'Untitled Project 5', 'com.apple.quicktime.description': 'This video is about Untitled Project 5'}, 'inputs': [{'streams': [{'input_number': 0, 'stream_number': 0, 'stream_type': 'audio', 'language': 'eng', 'default': True, 'fps': 48000, 'bitrate': 2304, 'metadata': {'Metadata': '', 'creation_time': '2025-02-11T08:40:02.000000Z', 'handler_name': 'Core Media Audio', 'vendor_id': '[0][0][0][0]'}}, {'input_number': 0, 'stream_number': 1, 'stream_type': 'video', 'language': None, 'default': True, 'size': [1280, 720], 'bitrate': 42, 'fps': 23.976023976023978, 'codec_name': 'hevc', 'profile': '(Main)', 'metadata': {'Metadata': '', 'creation_time': '2025-02-11T08:40:02.000000Z', 'handler_name': 'Core Media Video', 'vendor_id': '[0][0][0][0]', 'encoder': 'HEVC', 'timecode': '00:00:00:00'}}, {'input_number': 0, 'stream_number': 2, 'stream_type': 'data', 'language': None, 'default': True, 'metadata': {'Metadata': '', 'creation_time': '2025-02-11T08:40:02.000000Z', 'handler_name': 'Core Media Time Code', 'timecode': '00:00:00:00'}}, {'input_number': 0, 'stream_number': 3, 'stream_type': 'video', 'language': None, 'default': False, 'size': [1280, 720], 'bitrate': None, 'fps': 90000.0, 'codec_name': 'mjpeg', 'profile': '(Progressive)'}], 'input_number': 0}], 'duration': 5.01, 'bitrate': 2380, 'start': 0.0, 'default_audio_input_number': 0, 'default_audio_stream_number': 0, 'audio_fps': 48000, 'audio_bitrate': 2304, 'default_video_input_number': 0, 'default_video_stream_number': 1, 'video_codec_name': 'hevc', 'video_profile': '(Main)', 'video_size': [1280, 720], 'video_bitrate': 42, 'video_fps': 23.976023976023978, 'default_data_input_number': 0, 'default_data_stream_number': 2, 'video_duration': 5.01, 'video_n_frames': 120}\n",
      "/Users/mercy/opt/anaconda3/envs/qmind2/lib/python3.9/site-packages/imageio_ffmpeg/binaries/ffmpeg-macos-x86_64-v7.1 -ss 0.000000 -i ./audios/rightat.mov -ss 0.025000 -loglevel error -f image2pipe -vf scale=1280:720 -sws_flags bicubic -pix_fmt rgb24 -vcodec rawvideo -\n"
     ]
    },
    {
     "name": "stderr",
     "output_type": "stream",
     "text": [
      "\n",
      "\n",
      "\u001b[A\u001b[A\n",
      "\n",
      "\u001b[A\u001b[A\n",
      "\n",
      "\u001b[A\u001b[A\n",
      "\n",
      "\u001b[A\u001b[A\n",
      "\n",
      "\u001b[A\u001b[A\n",
      "\n",
      "\u001b[A\u001b[A"
     ]
    },
    {
     "name": "stdout",
     "output_type": "stream",
     "text": [
      "{'video_found': True, 'audio_found': True, 'metadata': {'major_brand': 'qt', 'minor_version': '0', 'compatible_brands': 'qt', 'creation_time': '2025-02-11T08:39:41.000000Z', 'keywords': '2024-06-08', 'title': 'Untitled Project 5', 'artist': 'Mercy', 'com.apple.quicktime.author': 'Mercy', 'com.apple.quicktime.keywords': '2024-06-08', 'com.apple.quicktime.displayname': 'Untitled Project 5', 'com.apple.quicktime.title': 'Untitled Project 5', 'com.apple.quicktime.description': 'This video is about Untitled Project 5'}, 'inputs': [{'streams': [{'input_number': 0, 'stream_number': 0, 'stream_type': 'audio', 'language': 'eng', 'default': True, 'fps': 48000, 'bitrate': 2304, 'metadata': {'Metadata': '', 'creation_time': '2025-02-11T08:39:41.000000Z', 'handler_name': 'Core Media Audio', 'vendor_id': '[0][0][0][0]'}}, {'input_number': 0, 'stream_number': 1, 'stream_type': 'video', 'language': None, 'default': True, 'size': [1280, 720], 'bitrate': 37, 'fps': 23.976023976023978, 'codec_name': 'hevc', 'profile': '(Main)', 'metadata': {'Metadata': '', 'creation_time': '2025-02-11T08:39:41.000000Z', 'handler_name': 'Core Media Video', 'vendor_id': '[0][0][0][0]', 'encoder': 'HEVC', 'timecode': '00:00:00:00'}}, {'input_number': 0, 'stream_number': 2, 'stream_type': 'data', 'language': None, 'default': True, 'metadata': {'Metadata': '', 'creation_time': '2025-02-11T08:39:41.000000Z', 'handler_name': 'Core Media Time Code', 'timecode': '00:00:00:00'}}, {'input_number': 0, 'stream_number': 3, 'stream_type': 'video', 'language': None, 'default': False, 'size': [1280, 720], 'bitrate': None, 'fps': 90000.0, 'codec_name': 'mjpeg', 'profile': '(Progressive)'}], 'input_number': 0}], 'duration': 5.01, 'bitrate': 2371, 'start': 0.0, 'default_audio_input_number': 0, 'default_audio_stream_number': 0, 'audio_fps': 48000, 'audio_bitrate': 2304, 'default_video_input_number': 0, 'default_video_stream_number': 1, 'video_codec_name': 'hevc', 'video_profile': '(Main)', 'video_size': [1280, 720], 'video_bitrate': 37, 'video_fps': 23.976023976023978, 'default_data_input_number': 0, 'default_data_stream_number': 2, 'video_duration': 5.01, 'video_n_frames': 120}\n",
      "/Users/mercy/opt/anaconda3/envs/qmind2/lib/python3.9/site-packages/imageio_ffmpeg/binaries/ffmpeg-macos-x86_64-v7.1 -ss 0.000000 -i ./audios/leftat.mov -ss 0.015000 -loglevel error -f image2pipe -vf scale=1280:720 -sws_flags bicubic -pix_fmt rgb24 -vcodec rawvideo -\n"
     ]
    },
    {
     "name": "stderr",
     "output_type": "stream",
     "text": [
      "\n",
      "\n",
      "\u001b[A\u001b[A\n",
      "\n",
      "\u001b[A\u001b[A\n",
      "\n",
      "\u001b[A\u001b[A\n",
      "\n",
      "\u001b[A\u001b[A"
     ]
    },
    {
     "name": "stdout",
     "output_type": "stream",
     "text": [
      "{'video_found': True, 'audio_found': True, 'metadata': {'major_brand': 'qt', 'minor_version': '0', 'compatible_brands': 'qt', 'creation_time': '2025-02-11T08:40:02.000000Z', 'keywords': '2024-06-08', 'title': 'Untitled Project 5', 'artist': 'Mercy', 'com.apple.quicktime.author': 'Mercy', 'com.apple.quicktime.keywords': '2024-06-08', 'com.apple.quicktime.displayname': 'Untitled Project 5', 'com.apple.quicktime.title': 'Untitled Project 5', 'com.apple.quicktime.description': 'This video is about Untitled Project 5'}, 'inputs': [{'streams': [{'input_number': 0, 'stream_number': 0, 'stream_type': 'audio', 'language': 'eng', 'default': True, 'fps': 48000, 'bitrate': 2304, 'metadata': {'Metadata': '', 'creation_time': '2025-02-11T08:40:02.000000Z', 'handler_name': 'Core Media Audio', 'vendor_id': '[0][0][0][0]'}}, {'input_number': 0, 'stream_number': 1, 'stream_type': 'video', 'language': None, 'default': True, 'size': [1280, 720], 'bitrate': 42, 'fps': 23.976023976023978, 'codec_name': 'hevc', 'profile': '(Main)', 'metadata': {'Metadata': '', 'creation_time': '2025-02-11T08:40:02.000000Z', 'handler_name': 'Core Media Video', 'vendor_id': '[0][0][0][0]', 'encoder': 'HEVC', 'timecode': '00:00:00:00'}}, {'input_number': 0, 'stream_number': 2, 'stream_type': 'data', 'language': None, 'default': True, 'metadata': {'Metadata': '', 'creation_time': '2025-02-11T08:40:02.000000Z', 'handler_name': 'Core Media Time Code', 'timecode': '00:00:00:00'}}, {'input_number': 0, 'stream_number': 3, 'stream_type': 'video', 'language': None, 'default': False, 'size': [1280, 720], 'bitrate': None, 'fps': 90000.0, 'codec_name': 'mjpeg', 'profile': '(Progressive)'}], 'input_number': 0}], 'duration': 5.01, 'bitrate': 2380, 'start': 0.0, 'default_audio_input_number': 0, 'default_audio_stream_number': 0, 'audio_fps': 48000, 'audio_bitrate': 2304, 'default_video_input_number': 0, 'default_video_stream_number': 1, 'video_codec_name': 'hevc', 'video_profile': '(Main)', 'video_size': [1280, 720], 'video_bitrate': 42, 'video_fps': 23.976023976023978, 'default_data_input_number': 0, 'default_data_stream_number': 2, 'video_duration': 5.01, 'video_n_frames': 120}\n",
      "/Users/mercy/opt/anaconda3/envs/qmind2/lib/python3.9/site-packages/imageio_ffmpeg/binaries/ffmpeg-macos-x86_64-v7.1 -ss 0.000000 -i ./audios/rightat.mov -ss 0.005000 -loglevel error -f image2pipe -vf scale=1280:720 -sws_flags bicubic -pix_fmt rgb24 -vcodec rawvideo -\n"
     ]
    },
    {
     "name": "stderr",
     "output_type": "stream",
     "text": [
      "\n",
      "\n",
      "\u001b[A\u001b[A\n",
      "\n",
      "\u001b[A\u001b[A\n",
      "\n",
      "\u001b[A\u001b[A/Users/mercy/opt/anaconda3/envs/qmind2/lib/python3.9/site-packages/moviepy/video/io/ffmpeg_reader.py:178: UserWarning: In file ./audios/rightat.mov, 2764800 bytes wanted but 0 bytes read at frame index 120 (out of a total 120 frames), at time 5.00/5.01 sec. Using the last valid frame instead.\n",
      "  warnings.warn(\n",
      "\n",
      "\n",
      "\u001b[A\u001b[A\n",
      "\n",
      "\u001b[A\u001b[A"
     ]
    },
    {
     "name": "stdout",
     "output_type": "stream",
     "text": [
      "{'video_found': True, 'audio_found': True, 'metadata': {'major_brand': 'qt', 'minor_version': '0', 'compatible_brands': 'qt', 'creation_time': '2025-02-11T08:39:41.000000Z', 'keywords': '2024-06-08', 'title': 'Untitled Project 5', 'artist': 'Mercy', 'com.apple.quicktime.author': 'Mercy', 'com.apple.quicktime.keywords': '2024-06-08', 'com.apple.quicktime.displayname': 'Untitled Project 5', 'com.apple.quicktime.title': 'Untitled Project 5', 'com.apple.quicktime.description': 'This video is about Untitled Project 5'}, 'inputs': [{'streams': [{'input_number': 0, 'stream_number': 0, 'stream_type': 'audio', 'language': 'eng', 'default': True, 'fps': 48000, 'bitrate': 2304, 'metadata': {'Metadata': '', 'creation_time': '2025-02-11T08:39:41.000000Z', 'handler_name': 'Core Media Audio', 'vendor_id': '[0][0][0][0]'}}, {'input_number': 0, 'stream_number': 1, 'stream_type': 'video', 'language': None, 'default': True, 'size': [1280, 720], 'bitrate': 37, 'fps': 23.976023976023978, 'codec_name': 'hevc', 'profile': '(Main)', 'metadata': {'Metadata': '', 'creation_time': '2025-02-11T08:39:41.000000Z', 'handler_name': 'Core Media Video', 'vendor_id': '[0][0][0][0]', 'encoder': 'HEVC', 'timecode': '00:00:00:00'}}, {'input_number': 0, 'stream_number': 2, 'stream_type': 'data', 'language': None, 'default': True, 'metadata': {'Metadata': '', 'creation_time': '2025-02-11T08:39:41.000000Z', 'handler_name': 'Core Media Time Code', 'timecode': '00:00:00:00'}}, {'input_number': 0, 'stream_number': 3, 'stream_type': 'video', 'language': None, 'default': False, 'size': [1280, 720], 'bitrate': None, 'fps': 90000.0, 'codec_name': 'mjpeg', 'profile': '(Progressive)'}], 'input_number': 0}], 'duration': 5.01, 'bitrate': 2371, 'start': 0.0, 'default_audio_input_number': 0, 'default_audio_stream_number': 0, 'audio_fps': 48000, 'audio_bitrate': 2304, 'default_video_input_number': 0, 'default_video_stream_number': 1, 'video_codec_name': 'hevc', 'video_profile': '(Main)', 'video_size': [1280, 720], 'video_bitrate': 37, 'video_fps': 23.976023976023978, 'default_data_input_number': 0, 'default_data_stream_number': 2, 'video_duration': 5.01, 'video_n_frames': 120}\n",
      "/Users/mercy/opt/anaconda3/envs/qmind2/lib/python3.9/site-packages/imageio_ffmpeg/binaries/ffmpeg-macos-x86_64-v7.1 -ss 0.000000 -i ./audios/leftat.mov -ss 0.036667 -loglevel error -f image2pipe -vf scale=1280:720 -sws_flags bicubic -pix_fmt rgb24 -vcodec rawvideo -\n"
     ]
    },
    {
     "name": "stderr",
     "output_type": "stream",
     "text": [
      "\n",
      "\n",
      "\u001b[A\u001b[A\n",
      "\n",
      "\u001b[A\u001b[A\n",
      "\n",
      "\u001b[A\u001b[A\n",
      "\n",
      "\u001b[A\u001b[A\n",
      "\n",
      "\u001b[A\u001b[A"
     ]
    },
    {
     "name": "stdout",
     "output_type": "stream",
     "text": [
      "{'video_found': True, 'audio_found': True, 'metadata': {'major_brand': 'qt', 'minor_version': '0', 'compatible_brands': 'qt', 'creation_time': '2025-02-11T08:39:17.000000Z', 'keywords': '2024-06-08', 'title': 'Untitled Project 5', 'artist': 'Mercy', 'com.apple.quicktime.author': 'Mercy', 'com.apple.quicktime.keywords': '2024-06-08', 'com.apple.quicktime.displayname': 'Untitled Project 5', 'com.apple.quicktime.title': 'Untitled Project 5', 'com.apple.quicktime.description': 'This video is about Untitled Project 5'}, 'inputs': [{'streams': [{'input_number': 0, 'stream_number': 0, 'stream_type': 'audio', 'language': 'eng', 'default': True, 'fps': 48000, 'bitrate': 2304, 'metadata': {'Metadata': '', 'creation_time': '2025-02-11T08:39:17.000000Z', 'handler_name': 'Core Media Audio', 'vendor_id': '[0][0][0][0]'}}, {'input_number': 0, 'stream_number': 1, 'stream_type': 'video', 'language': None, 'default': True, 'size': [1280, 720], 'bitrate': 44, 'fps': 23.976023976023978, 'codec_name': 'hevc', 'profile': '(Main)', 'metadata': {'Metadata': '', 'creation_time': '2025-02-11T08:39:17.000000Z', 'handler_name': 'Core Media Video', 'vendor_id': '[0][0][0][0]', 'encoder': 'HEVC', 'timecode': '00:00:00:00'}}, {'input_number': 0, 'stream_number': 2, 'stream_type': 'data', 'language': None, 'default': True, 'metadata': {'Metadata': '', 'creation_time': '2025-02-11T08:39:17.000000Z', 'handler_name': 'Core Media Time Code', 'timecode': '00:00:00:00'}}, {'input_number': 0, 'stream_number': 3, 'stream_type': 'video', 'language': None, 'default': False, 'size': [1280, 720], 'bitrate': None, 'fps': 90000.0, 'codec_name': 'mjpeg', 'profile': '(Progressive)'}], 'input_number': 0}], 'duration': 5.01, 'bitrate': 2384, 'start': 0.0, 'default_audio_input_number': 0, 'default_audio_stream_number': 0, 'audio_fps': 48000, 'audio_bitrate': 2304, 'default_video_input_number': 0, 'default_video_stream_number': 1, 'video_codec_name': 'hevc', 'video_profile': '(Main)', 'video_size': [1280, 720], 'video_bitrate': 44, 'video_fps': 23.976023976023978, 'default_data_input_number': 0, 'default_data_stream_number': 2, 'video_duration': 5.01, 'video_n_frames': 120}\n",
      "/Users/mercy/opt/anaconda3/envs/qmind2/lib/python3.9/site-packages/imageio_ffmpeg/binaries/ffmpeg-macos-x86_64-v7.1 -ss 0.000000 -i ./audios/frontat.mov -ss 0.026667 -loglevel error -f image2pipe -vf scale=1280:720 -sws_flags bicubic -pix_fmt rgb24 -vcodec rawvideo -\n"
     ]
    },
    {
     "name": "stderr",
     "output_type": "stream",
     "text": [
      "\n",
      "\n",
      "\u001b[A\u001b[A\n",
      "\n",
      "\u001b[A\u001b[A\n",
      "\n",
      "\u001b[A\u001b[A\n",
      "\n",
      "\u001b[A\u001b[A/Users/mercy/opt/anaconda3/envs/qmind2/lib/python3.9/site-packages/moviepy/video/io/ffmpeg_reader.py:178: UserWarning: In file ./audios/frontat.mov, 2764800 bytes wanted but 0 bytes read at frame index 119 (out of a total 120 frames), at time 4.96/5.01 sec. Using the last valid frame instead.\n",
      "  warnings.warn(\n",
      "\n",
      "\n",
      "\u001b[A\u001b[A"
     ]
    },
    {
     "name": "stdout",
     "output_type": "stream",
     "text": [
      "{'video_found': True, 'audio_found': True, 'metadata': {'major_brand': 'qt', 'minor_version': '0', 'compatible_brands': 'qt', 'creation_time': '2025-02-11T08:39:17.000000Z', 'keywords': '2024-06-08', 'title': 'Untitled Project 5', 'artist': 'Mercy', 'com.apple.quicktime.author': 'Mercy', 'com.apple.quicktime.keywords': '2024-06-08', 'com.apple.quicktime.displayname': 'Untitled Project 5', 'com.apple.quicktime.title': 'Untitled Project 5', 'com.apple.quicktime.description': 'This video is about Untitled Project 5'}, 'inputs': [{'streams': [{'input_number': 0, 'stream_number': 0, 'stream_type': 'audio', 'language': 'eng', 'default': True, 'fps': 48000, 'bitrate': 2304, 'metadata': {'Metadata': '', 'creation_time': '2025-02-11T08:39:17.000000Z', 'handler_name': 'Core Media Audio', 'vendor_id': '[0][0][0][0]'}}, {'input_number': 0, 'stream_number': 1, 'stream_type': 'video', 'language': None, 'default': True, 'size': [1280, 720], 'bitrate': 44, 'fps': 23.976023976023978, 'codec_name': 'hevc', 'profile': '(Main)', 'metadata': {'Metadata': '', 'creation_time': '2025-02-11T08:39:17.000000Z', 'handler_name': 'Core Media Video', 'vendor_id': '[0][0][0][0]', 'encoder': 'HEVC', 'timecode': '00:00:00:00'}}, {'input_number': 0, 'stream_number': 2, 'stream_type': 'data', 'language': None, 'default': True, 'metadata': {'Metadata': '', 'creation_time': '2025-02-11T08:39:17.000000Z', 'handler_name': 'Core Media Time Code', 'timecode': '00:00:00:00'}}, {'input_number': 0, 'stream_number': 3, 'stream_type': 'video', 'language': None, 'default': False, 'size': [1280, 720], 'bitrate': None, 'fps': 90000.0, 'codec_name': 'mjpeg', 'profile': '(Progressive)'}], 'input_number': 0}], 'duration': 5.01, 'bitrate': 2384, 'start': 0.0, 'default_audio_input_number': 0, 'default_audio_stream_number': 0, 'audio_fps': 48000, 'audio_bitrate': 2304, 'default_video_input_number': 0, 'default_video_stream_number': 1, 'video_codec_name': 'hevc', 'video_profile': '(Main)', 'video_size': [1280, 720], 'video_bitrate': 44, 'video_fps': 23.976023976023978, 'default_data_input_number': 0, 'default_data_stream_number': 2, 'video_duration': 5.01, 'video_n_frames': 120}\n",
      "/Users/mercy/opt/anaconda3/envs/qmind2/lib/python3.9/site-packages/imageio_ffmpeg/binaries/ffmpeg-macos-x86_64-v7.1 -ss 0.000000 -i ./audios/frontat.mov -ss 0.016667 -loglevel error -f image2pipe -vf scale=1280:720 -sws_flags bicubic -pix_fmt rgb24 -vcodec rawvideo -\n"
     ]
    },
    {
     "name": "stderr",
     "output_type": "stream",
     "text": [
      "\n",
      "\n",
      "\u001b[A\u001b[A\n",
      "\n",
      "\u001b[A\u001b[A\n",
      "\n",
      "\u001b[A\u001b[A\n",
      "\n",
      "\u001b[A\u001b[A\n",
      "\n",
      "\u001b[A\u001b[A"
     ]
    },
    {
     "name": "stdout",
     "output_type": "stream",
     "text": [
      "{'video_found': True, 'audio_found': True, 'metadata': {'major_brand': 'qt', 'minor_version': '0', 'compatible_brands': 'qt', 'creation_time': '2025-02-11T08:39:17.000000Z', 'keywords': '2024-06-08', 'title': 'Untitled Project 5', 'artist': 'Mercy', 'com.apple.quicktime.author': 'Mercy', 'com.apple.quicktime.keywords': '2024-06-08', 'com.apple.quicktime.displayname': 'Untitled Project 5', 'com.apple.quicktime.title': 'Untitled Project 5', 'com.apple.quicktime.description': 'This video is about Untitled Project 5'}, 'inputs': [{'streams': [{'input_number': 0, 'stream_number': 0, 'stream_type': 'audio', 'language': 'eng', 'default': True, 'fps': 48000, 'bitrate': 2304, 'metadata': {'Metadata': '', 'creation_time': '2025-02-11T08:39:17.000000Z', 'handler_name': 'Core Media Audio', 'vendor_id': '[0][0][0][0]'}}, {'input_number': 0, 'stream_number': 1, 'stream_type': 'video', 'language': None, 'default': True, 'size': [1280, 720], 'bitrate': 44, 'fps': 23.976023976023978, 'codec_name': 'hevc', 'profile': '(Main)', 'metadata': {'Metadata': '', 'creation_time': '2025-02-11T08:39:17.000000Z', 'handler_name': 'Core Media Video', 'vendor_id': '[0][0][0][0]', 'encoder': 'HEVC', 'timecode': '00:00:00:00'}}, {'input_number': 0, 'stream_number': 2, 'stream_type': 'data', 'language': None, 'default': True, 'metadata': {'Metadata': '', 'creation_time': '2025-02-11T08:39:17.000000Z', 'handler_name': 'Core Media Time Code', 'timecode': '00:00:00:00'}}, {'input_number': 0, 'stream_number': 3, 'stream_type': 'video', 'language': None, 'default': False, 'size': [1280, 720], 'bitrate': None, 'fps': 90000.0, 'codec_name': 'mjpeg', 'profile': '(Progressive)'}], 'input_number': 0}], 'duration': 5.01, 'bitrate': 2384, 'start': 0.0, 'default_audio_input_number': 0, 'default_audio_stream_number': 0, 'audio_fps': 48000, 'audio_bitrate': 2304, 'default_video_input_number': 0, 'default_video_stream_number': 1, 'video_codec_name': 'hevc', 'video_profile': '(Main)', 'video_size': [1280, 720], 'video_bitrate': 44, 'video_fps': 23.976023976023978, 'default_data_input_number': 0, 'default_data_stream_number': 2, 'video_duration': 5.01, 'video_n_frames': 120}\n",
      "/Users/mercy/opt/anaconda3/envs/qmind2/lib/python3.9/site-packages/imageio_ffmpeg/binaries/ffmpeg-macos-x86_64-v7.1 -ss 0.000000 -i ./audios/frontat.mov -ss 0.006667 -loglevel error -f image2pipe -vf scale=1280:720 -sws_flags bicubic -pix_fmt rgb24 -vcodec rawvideo -\n"
     ]
    },
    {
     "name": "stderr",
     "output_type": "stream",
     "text": [
      "\n",
      "\n",
      "\u001b[A\u001b[A\n",
      "\n",
      "\u001b[A\u001b[A\n",
      "\n",
      "\u001b[A\u001b[A\n",
      "\n",
      "\u001b[A\u001b[A/Users/mercy/opt/anaconda3/envs/qmind2/lib/python3.9/site-packages/moviepy/video/io/ffmpeg_reader.py:178: UserWarning: In file ./audios/frontat.mov, 2764800 bytes wanted but 0 bytes read at frame index 120 (out of a total 120 frames), at time 5.00/5.01 sec. Using the last valid frame instead.\n",
      "  warnings.warn(\n",
      "\n",
      "\n",
      "\u001b[A\u001b[A"
     ]
    },
    {
     "name": "stdout",
     "output_type": "stream",
     "text": [
      "{'video_found': True, 'audio_found': True, 'metadata': {'major_brand': 'qt', 'minor_version': '0', 'compatible_brands': 'qt', 'creation_time': '2025-02-11T08:39:17.000000Z', 'keywords': '2024-06-08', 'title': 'Untitled Project 5', 'artist': 'Mercy', 'com.apple.quicktime.author': 'Mercy', 'com.apple.quicktime.keywords': '2024-06-08', 'com.apple.quicktime.displayname': 'Untitled Project 5', 'com.apple.quicktime.title': 'Untitled Project 5', 'com.apple.quicktime.description': 'This video is about Untitled Project 5'}, 'inputs': [{'streams': [{'input_number': 0, 'stream_number': 0, 'stream_type': 'audio', 'language': 'eng', 'default': True, 'fps': 48000, 'bitrate': 2304, 'metadata': {'Metadata': '', 'creation_time': '2025-02-11T08:39:17.000000Z', 'handler_name': 'Core Media Audio', 'vendor_id': '[0][0][0][0]'}}, {'input_number': 0, 'stream_number': 1, 'stream_type': 'video', 'language': None, 'default': True, 'size': [1280, 720], 'bitrate': 44, 'fps': 23.976023976023978, 'codec_name': 'hevc', 'profile': '(Main)', 'metadata': {'Metadata': '', 'creation_time': '2025-02-11T08:39:17.000000Z', 'handler_name': 'Core Media Video', 'vendor_id': '[0][0][0][0]', 'encoder': 'HEVC', 'timecode': '00:00:00:00'}}, {'input_number': 0, 'stream_number': 2, 'stream_type': 'data', 'language': None, 'default': True, 'metadata': {'Metadata': '', 'creation_time': '2025-02-11T08:39:17.000000Z', 'handler_name': 'Core Media Time Code', 'timecode': '00:00:00:00'}}, {'input_number': 0, 'stream_number': 3, 'stream_type': 'video', 'language': None, 'default': False, 'size': [1280, 720], 'bitrate': None, 'fps': 90000.0, 'codec_name': 'mjpeg', 'profile': '(Progressive)'}], 'input_number': 0}], 'duration': 5.01, 'bitrate': 2384, 'start': 0.0, 'default_audio_input_number': 0, 'default_audio_stream_number': 0, 'audio_fps': 48000, 'audio_bitrate': 2304, 'default_video_input_number': 0, 'default_video_stream_number': 1, 'video_codec_name': 'hevc', 'video_profile': '(Main)', 'video_size': [1280, 720], 'video_bitrate': 44, 'video_fps': 23.976023976023978, 'default_data_input_number': 0, 'default_data_stream_number': 2, 'video_duration': 5.01, 'video_n_frames': 120}\n",
      "/Users/mercy/opt/anaconda3/envs/qmind2/lib/python3.9/site-packages/imageio_ffmpeg/binaries/ffmpeg-macos-x86_64-v7.1 -ss 0.000000 -i ./audios/frontat.mov -ss 0.038333 -loglevel error -f image2pipe -vf scale=1280:720 -sws_flags bicubic -pix_fmt rgb24 -vcodec rawvideo -\n"
     ]
    },
    {
     "name": "stderr",
     "output_type": "stream",
     "text": [
      "\n",
      "\n",
      "\u001b[A\u001b[A\n",
      "\n",
      "\u001b[A\u001b[A\n",
      "\n",
      "\u001b[A\u001b[A\n",
      "\n",
      "\u001b[A\u001b[A\n",
      "\n",
      "\u001b[A\u001b[A"
     ]
    },
    {
     "name": "stdout",
     "output_type": "stream",
     "text": [
      "{'video_found': True, 'audio_found': True, 'metadata': {'major_brand': 'qt', 'minor_version': '0', 'compatible_brands': 'qt', 'creation_time': '2025-02-11T08:40:02.000000Z', 'keywords': '2024-06-08', 'title': 'Untitled Project 5', 'artist': 'Mercy', 'com.apple.quicktime.author': 'Mercy', 'com.apple.quicktime.keywords': '2024-06-08', 'com.apple.quicktime.displayname': 'Untitled Project 5', 'com.apple.quicktime.title': 'Untitled Project 5', 'com.apple.quicktime.description': 'This video is about Untitled Project 5'}, 'inputs': [{'streams': [{'input_number': 0, 'stream_number': 0, 'stream_type': 'audio', 'language': 'eng', 'default': True, 'fps': 48000, 'bitrate': 2304, 'metadata': {'Metadata': '', 'creation_time': '2025-02-11T08:40:02.000000Z', 'handler_name': 'Core Media Audio', 'vendor_id': '[0][0][0][0]'}}, {'input_number': 0, 'stream_number': 1, 'stream_type': 'video', 'language': None, 'default': True, 'size': [1280, 720], 'bitrate': 42, 'fps': 23.976023976023978, 'codec_name': 'hevc', 'profile': '(Main)', 'metadata': {'Metadata': '', 'creation_time': '2025-02-11T08:40:02.000000Z', 'handler_name': 'Core Media Video', 'vendor_id': '[0][0][0][0]', 'encoder': 'HEVC', 'timecode': '00:00:00:00'}}, {'input_number': 0, 'stream_number': 2, 'stream_type': 'data', 'language': None, 'default': True, 'metadata': {'Metadata': '', 'creation_time': '2025-02-11T08:40:02.000000Z', 'handler_name': 'Core Media Time Code', 'timecode': '00:00:00:00'}}, {'input_number': 0, 'stream_number': 3, 'stream_type': 'video', 'language': None, 'default': False, 'size': [1280, 720], 'bitrate': None, 'fps': 90000.0, 'codec_name': 'mjpeg', 'profile': '(Progressive)'}], 'input_number': 0}], 'duration': 5.01, 'bitrate': 2380, 'start': 0.0, 'default_audio_input_number': 0, 'default_audio_stream_number': 0, 'audio_fps': 48000, 'audio_bitrate': 2304, 'default_video_input_number': 0, 'default_video_stream_number': 1, 'video_codec_name': 'hevc', 'video_profile': '(Main)', 'video_size': [1280, 720], 'video_bitrate': 42, 'video_fps': 23.976023976023978, 'default_data_input_number': 0, 'default_data_stream_number': 2, 'video_duration': 5.01, 'video_n_frames': 120}\n",
      "/Users/mercy/opt/anaconda3/envs/qmind2/lib/python3.9/site-packages/imageio_ffmpeg/binaries/ffmpeg-macos-x86_64-v7.1 -ss 0.000000 -i ./audios/rightat.mov -ss 0.028333 -loglevel error -f image2pipe -vf scale=1280:720 -sws_flags bicubic -pix_fmt rgb24 -vcodec rawvideo -\n"
     ]
    },
    {
     "name": "stderr",
     "output_type": "stream",
     "text": [
      "\n",
      "\n",
      "\u001b[A\u001b[A\n",
      "\n",
      "\u001b[A\u001b[A\n",
      "\n",
      "\u001b[A\u001b[A\n",
      "\n",
      "\u001b[A\u001b[A\n",
      "\n",
      "\u001b[A\u001b[A\n",
      "\n",
      "\u001b[A\u001b[A"
     ]
    },
    {
     "name": "stdout",
     "output_type": "stream",
     "text": [
      "{'video_found': True, 'audio_found': True, 'metadata': {'major_brand': 'qt', 'minor_version': '0', 'compatible_brands': 'qt', 'creation_time': '2025-02-11T08:39:17.000000Z', 'keywords': '2024-06-08', 'title': 'Untitled Project 5', 'artist': 'Mercy', 'com.apple.quicktime.author': 'Mercy', 'com.apple.quicktime.keywords': '2024-06-08', 'com.apple.quicktime.displayname': 'Untitled Project 5', 'com.apple.quicktime.title': 'Untitled Project 5', 'com.apple.quicktime.description': 'This video is about Untitled Project 5'}, 'inputs': [{'streams': [{'input_number': 0, 'stream_number': 0, 'stream_type': 'audio', 'language': 'eng', 'default': True, 'fps': 48000, 'bitrate': 2304, 'metadata': {'Metadata': '', 'creation_time': '2025-02-11T08:39:17.000000Z', 'handler_name': 'Core Media Audio', 'vendor_id': '[0][0][0][0]'}}, {'input_number': 0, 'stream_number': 1, 'stream_type': 'video', 'language': None, 'default': True, 'size': [1280, 720], 'bitrate': 44, 'fps': 23.976023976023978, 'codec_name': 'hevc', 'profile': '(Main)', 'metadata': {'Metadata': '', 'creation_time': '2025-02-11T08:39:17.000000Z', 'handler_name': 'Core Media Video', 'vendor_id': '[0][0][0][0]', 'encoder': 'HEVC', 'timecode': '00:00:00:00'}}, {'input_number': 0, 'stream_number': 2, 'stream_type': 'data', 'language': None, 'default': True, 'metadata': {'Metadata': '', 'creation_time': '2025-02-11T08:39:17.000000Z', 'handler_name': 'Core Media Time Code', 'timecode': '00:00:00:00'}}, {'input_number': 0, 'stream_number': 3, 'stream_type': 'video', 'language': None, 'default': False, 'size': [1280, 720], 'bitrate': None, 'fps': 90000.0, 'codec_name': 'mjpeg', 'profile': '(Progressive)'}], 'input_number': 0}], 'duration': 5.01, 'bitrate': 2384, 'start': 0.0, 'default_audio_input_number': 0, 'default_audio_stream_number': 0, 'audio_fps': 48000, 'audio_bitrate': 2304, 'default_video_input_number': 0, 'default_video_stream_number': 1, 'video_codec_name': 'hevc', 'video_profile': '(Main)', 'video_size': [1280, 720], 'video_bitrate': 44, 'video_fps': 23.976023976023978, 'default_data_input_number': 0, 'default_data_stream_number': 2, 'video_duration': 5.01, 'video_n_frames': 120}\n",
      "/Users/mercy/opt/anaconda3/envs/qmind2/lib/python3.9/site-packages/imageio_ffmpeg/binaries/ffmpeg-macos-x86_64-v7.1 -ss 0.000000 -i ./audios/frontat.mov -ss 0.018333 -loglevel error -f image2pipe -vf scale=1280:720 -sws_flags bicubic -pix_fmt rgb24 -vcodec rawvideo -\n"
     ]
    },
    {
     "name": "stderr",
     "output_type": "stream",
     "text": [
      "\n",
      "\n",
      "\u001b[A\u001b[A\n",
      "\n",
      "\u001b[A\u001b[A\n",
      "\n",
      "\u001b[A\u001b[A\n",
      "\n",
      "\u001b[A\u001b[A\n",
      "\n",
      "\u001b[A\u001b[A\n",
      "\n",
      "                                                                  \n",
      "\u001b[A                                                               \n",
      "chunk:  20%|█▉        | 109/553 [09:02<36:48,  4.97s/it, now=None]\n",
      "\n",
      "                                                                  \n",
      "\u001b[A                                                               \n",
      "chunk:  20%|█▉        | 109/553 [09:02<36:48,  4.97s/it, now=None]"
     ]
    },
    {
     "name": "stdout",
     "output_type": "stream",
     "text": [
      "MoviePy - Done !\n",
      "MoviePy - video ready output.mp4\n"
     ]
    },
    {
     "data": {
      "text/plain": [
       "True"
      ]
     },
     "execution_count": 60,
     "metadata": {},
     "output_type": "execute_result"
    }
   ],
   "source": [
    "prompt_types = ['at', 'ao', 'to']\n",
    "directions = ['front', 'left', 'right']\n",
    "\n",
    "def generate(prompt_num=10, prompt_type=prompt_types[0]):\n",
    "    if prompt_type not in prompt_types:\n",
    "        print('invalid prompt type')\n",
    "        return False\n",
    "    \n",
    "    # collect all possible files and convert to VideoFileClips\n",
    "    clips = [VideoFileClip(f\"./audios/{d}{prompt_type}.mov\", audio=True) for d in directions]\n",
    "\n",
    "    # generate generally equal amounts of each video, then randomize list order\n",
    "    repeated_list = list(itertools.islice(itertools.cycle(clips), prompt_num))\n",
    "    random.shuffle(repeated_list)\n",
    "    # print(repeated_list)\n",
    "\n",
    "    # generate output clip\n",
    "    final_clip = concatenate_videoclips(repeated_list)\n",
    "    final_clip.write_videofile(f\"output_{prompt_num}{prompt_type}.mp4\", codec=\"libx264\", fps=24, audio=True, audio_codec='aac')\n",
    "    final_clip.close()\n",
    "    return True\n",
    "\n",
    "prompt_num = 20\n",
    "prompt_type = 'at'\n",
    "generate(prompt_num, prompt_type)"
   ]
  }
 ],
 "metadata": {
  "kernelspec": {
   "display_name": "qmind2",
   "language": "python",
   "name": "python3"
  },
  "language_info": {
   "codemirror_mode": {
    "name": "ipython",
    "version": 3
   },
   "file_extension": ".py",
   "mimetype": "text/x-python",
   "name": "python",
   "nbconvert_exporter": "python",
   "pygments_lexer": "ipython3",
   "version": "3.9.17"
  }
 },
 "nbformat": 4,
 "nbformat_minor": 2
}
