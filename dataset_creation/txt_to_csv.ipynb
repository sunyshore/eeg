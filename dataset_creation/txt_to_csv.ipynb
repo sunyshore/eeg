{
 "cells": [
  {
   "cell_type": "markdown",
   "metadata": {},
   "source": [
    "# Convert OpenBCI .txt output to .csv\n",
    "\n",
    "MD\n",
    "\n",
    "\n",
    "Assumes you have a directory called `datasets`. Within that folder, this finds all `.txt` files and converts them to `.csv` files by removing the first 4 lines of the original `.txt` file."
   ]
  },
  {
   "cell_type": "code",
   "execution_count": 4,
   "metadata": {},
   "outputs": [],
   "source": [
    "import os\n",
    "import pandas as pd"
   ]
  },
  {
   "cell_type": "code",
   "execution_count": 5,
   "metadata": {},
   "outputs": [],
   "source": [
    "def process_txt_to_csv(folder_path, skip=4):\n",
    "    for root, _, files in os.walk(folder_path):\n",
    "        for file in files:\n",
    "            if file.endswith(\".txt\"):\n",
    "                txt_path = os.path.join(root, file)\n",
    "                csv_path = os.path.join(root, file.replace(\".txt\", \".csv\"))\n",
    "                \n",
    "                # Read the file and remove the first 6 lines\n",
    "                with open(txt_path, \"r\", encoding=\"utf-8\") as f:\n",
    "                    lines = f.readlines()[skip:]\n",
    "                \n",
    "                # Save to CSV\n",
    "                with open(csv_path, \"w\", encoding=\"utf-8\") as f:\n",
    "                    f.writelines(lines)\n",
    "\n",
    "                print(f\"Processed: {txt_path} → {csv_path}\")\n"
   ]
  },
  {
   "cell_type": "code",
   "execution_count": null,
   "metadata": {},
   "outputs": [
    {
     "name": "stdout",
     "output_type": "stream",
     "text": [
      "Processed: ./datasets/4_MG/4_MG_4.txt → ./datasets/4_MG/4_MG_4.csv\n",
      "Processed: ./datasets/4_MG/4_MG_5.txt → ./datasets/4_MG/4_MG_5.csv\n",
      "Processed: ./datasets/4_MG/4_MG_1.txt → ./datasets/4_MG/4_MG_1.csv\n",
      "Processed: ./datasets/4_MG/4_MG_2.txt → ./datasets/4_MG/4_MG_2.csv\n",
      "Processed: ./datasets/4_MG/4_MG_3.txt → ./datasets/4_MG/4_MG_3.csv\n",
      "Processed: ./datasets/2_FA/2_FA_4.txt → ./datasets/2_FA/2_FA_4.csv\n",
      "Processed: ./datasets/2_FA/2_FA_5.txt → ./datasets/2_FA/2_FA_5.csv\n",
      "Processed: ./datasets/2_FA/2_FA_1.txt → ./datasets/2_FA/2_FA_1.csv\n",
      "Processed: ./datasets/2_FA/2_FA_2.txt → ./datasets/2_FA/2_FA_2.csv\n",
      "Processed: ./datasets/2_FA/2_FA_3.txt → ./datasets/2_FA/2_FA_3.csv\n",
      "Processed: ./datasets/3_FJ/3_FJ_5.txt → ./datasets/3_FJ/3_FJ_5.csv\n",
      "Processed: ./datasets/3_FJ/3_FJ_1.txt → ./datasets/3_FJ/3_FJ_1.csv\n",
      "Processed: ./datasets/3_FJ/3_FJ_2.txt → ./datasets/3_FJ/3_FJ_2.csv\n",
      "Processed: ./datasets/6_FC/6_FC_5.txt → ./datasets/6_FC/6_FC_5.csv\n",
      "Processed: ./datasets/6_FC/6_FC_1.txt → ./datasets/6_FC/6_FC_1.csv\n",
      "Processed: ./datasets/6_FC/6_FC_2.txt → ./datasets/6_FC/6_FC_2.csv\n",
      "Processed: ./datasets/1_MB/1_MB_3.txt → ./datasets/1_MB/1_MB_3.csv\n",
      "Processed: ./datasets/1_MB/1_MB_2.txt → ./datasets/1_MB/1_MB_2.csv\n",
      "Processed: ./datasets/1_MB/1_MB_1.txt → ./datasets/1_MB/1_MB_1.csv\n",
      "Processed: ./datasets/1_MB/1_MB_5.txt → ./datasets/1_MB/1_MB_5.csv\n",
      "Processed: ./datasets/1_MB/1_MB_4.txt → ./datasets/1_MB/1_MB_4.csv\n",
      "Processed: ./datasets/5_CB/5_CB_5.txt → ./datasets/5_CB/5_CB_5.csv\n",
      "Processed: ./datasets/5_CB/5_CB_2.txt → ./datasets/5_CB/5_CB_2.csv\n",
      "Processed: ./datasets/5_CB/5_CB_1.txt → ./datasets/5_CB/5_CB_1.csv\n"
     ]
    }
   ],
   "source": [
    "folder_path = \"./datasets\"\n",
    "process_txt_to_csv(folder_path, 4)"
   ]
  }
 ],
 "metadata": {
  "kernelspec": {
   "display_name": "qmind2",
   "language": "python",
   "name": "python3"
  },
  "language_info": {
   "codemirror_mode": {
    "name": "ipython",
    "version": 3
   },
   "file_extension": ".py",
   "mimetype": "text/x-python",
   "name": "python",
   "nbconvert_exporter": "python",
   "pygments_lexer": "ipython3",
   "version": "3.9.17"
  }
 },
 "nbformat": 4,
 "nbformat_minor": 2
}
