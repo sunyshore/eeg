{
 "cells": [
  {
   "cell_type": "markdown",
   "metadata": {},
   "source": [
    "# attention mechanism for eeg\n",
    "MD\n",
    "\n",
    "datasets from here: https://mindbigdata.com/opendb/index.html\n",
    "\n",
    "directory has a `/datasets` folder containing the uncompressed `EP1.01.txt` file from the above link"
   ]
  },
  {
   "cell_type": "code",
   "execution_count": 69,
   "metadata": {},
   "outputs": [],
   "source": [
    "import pandas as pd\n",
    "import numpy as np\n",
    "from numpy import array\n",
    "from numpy import random\n",
    "from numpy import dot\n",
    "from scipy.special import softmax\n",
    "from sklearn.preprocessing import normalize\n",
    "import seaborn as sns\n",
    "import matplotlib.pylab as plt"
   ]
  },
  {
   "cell_type": "code",
   "execution_count": 70,
   "metadata": {},
   "outputs": [],
   "source": [
    "# cgpt fct to get x subset from big file\n",
    "lines = 1*1400\n",
    "header = \"id\tevent\tdevice\tchannel\tcode\tsize\tdata\\n\"\n",
    "\n",
    "def write_lines(input_file, output_file):\n",
    "    with open(input_file, 'r') as infile, open(output_file, 'w') as outfile:\n",
    "        outfile.write(header)\n",
    "        for i, line in enumerate(infile):\n",
    "            if i >= lines:  # Stop after 500 lines\n",
    "                break\n",
    "            outfile.write(line)\n",
    "\n",
    "input_file = 'datasets/EP1.01.txt'\n",
    "output_file = 'small.txt'\n",
    "write_lines(input_file, output_file)\n"
   ]
  },
  {
   "cell_type": "code",
   "execution_count": 71,
   "metadata": {},
   "outputs": [],
   "source": [
    "# convert .txt to dataframe\n",
    "df = pd.read_csv('small.txt', sep=\"\\t\")"
   ]
  },
  {
   "cell_type": "code",
   "execution_count": 72,
   "metadata": {},
   "outputs": [
    {
     "data": {
      "text/html": [
       "<div>\n",
       "<style scoped>\n",
       "    .dataframe tbody tr th:only-of-type {\n",
       "        vertical-align: middle;\n",
       "    }\n",
       "\n",
       "    .dataframe tbody tr th {\n",
       "        vertical-align: top;\n",
       "    }\n",
       "\n",
       "    .dataframe thead th {\n",
       "        text-align: right;\n",
       "    }\n",
       "</style>\n",
       "<table border=\"1\" class=\"dataframe\">\n",
       "  <thead>\n",
       "    <tr style=\"text-align: right;\">\n",
       "      <th></th>\n",
       "      <th>id</th>\n",
       "      <th>event</th>\n",
       "      <th>device</th>\n",
       "      <th>channel</th>\n",
       "      <th>code</th>\n",
       "      <th>size</th>\n",
       "      <th>data</th>\n",
       "    </tr>\n",
       "  </thead>\n",
       "  <tbody>\n",
       "    <tr>\n",
       "      <th>0</th>\n",
       "      <td>67635</td>\n",
       "      <td>67635</td>\n",
       "      <td>EP</td>\n",
       "      <td>AF3</td>\n",
       "      <td>6</td>\n",
       "      <td>260</td>\n",
       "      <td>4395.384615,4382.564102,4377.435897,4387.17948...</td>\n",
       "    </tr>\n",
       "    <tr>\n",
       "      <th>1</th>\n",
       "      <td>67636</td>\n",
       "      <td>67635</td>\n",
       "      <td>EP</td>\n",
       "      <td>F7</td>\n",
       "      <td>6</td>\n",
       "      <td>260</td>\n",
       "      <td>4489.230769,4475.384615,4474.358974,4486.66666...</td>\n",
       "    </tr>\n",
       "    <tr>\n",
       "      <th>2</th>\n",
       "      <td>67637</td>\n",
       "      <td>67635</td>\n",
       "      <td>EP</td>\n",
       "      <td>F3</td>\n",
       "      <td>6</td>\n",
       "      <td>260</td>\n",
       "      <td>4538.461538,4528.717948,4524.615384,4526.15384...</td>\n",
       "    </tr>\n",
       "    <tr>\n",
       "      <th>3</th>\n",
       "      <td>67638</td>\n",
       "      <td>67635</td>\n",
       "      <td>EP</td>\n",
       "      <td>FC5</td>\n",
       "      <td>6</td>\n",
       "      <td>260</td>\n",
       "      <td>4207.692307,4205.641025,4200.512820,4194.35897...</td>\n",
       "    </tr>\n",
       "    <tr>\n",
       "      <th>4</th>\n",
       "      <td>67639</td>\n",
       "      <td>67635</td>\n",
       "      <td>EP</td>\n",
       "      <td>T7</td>\n",
       "      <td>6</td>\n",
       "      <td>260</td>\n",
       "      <td>4497.948717,4498.461538,4494.871794,4497.94871...</td>\n",
       "    </tr>\n",
       "  </tbody>\n",
       "</table>\n",
       "</div>"
      ],
      "text/plain": [
       "      id  event device channel  code  size  \\\n",
       "0  67635  67635     EP     AF3     6   260   \n",
       "1  67636  67635     EP      F7     6   260   \n",
       "2  67637  67635     EP      F3     6   260   \n",
       "3  67638  67635     EP     FC5     6   260   \n",
       "4  67639  67635     EP      T7     6   260   \n",
       "\n",
       "                                                data  \n",
       "0  4395.384615,4382.564102,4377.435897,4387.17948...  \n",
       "1  4489.230769,4475.384615,4474.358974,4486.66666...  \n",
       "2  4538.461538,4528.717948,4524.615384,4526.15384...  \n",
       "3  4207.692307,4205.641025,4200.512820,4194.35897...  \n",
       "4  4497.948717,4498.461538,4494.871794,4497.94871...  "
      ]
     },
     "execution_count": 72,
     "metadata": {},
     "output_type": "execute_result"
    }
   ],
   "source": [
    "df.head()"
   ]
  },
  {
   "cell_type": "code",
   "execution_count": 73,
   "metadata": {},
   "outputs": [],
   "source": [
    "# get single sample from dataset\n",
    "curr = df[df['event'] == 67635].reset_index(drop=True)\n"
   ]
  },
  {
   "cell_type": "code",
   "execution_count": 74,
   "metadata": {},
   "outputs": [
    {
     "data": {
      "text/html": [
       "<div>\n",
       "<style scoped>\n",
       "    .dataframe tbody tr th:only-of-type {\n",
       "        vertical-align: middle;\n",
       "    }\n",
       "\n",
       "    .dataframe tbody tr th {\n",
       "        vertical-align: top;\n",
       "    }\n",
       "\n",
       "    .dataframe thead th {\n",
       "        text-align: right;\n",
       "    }\n",
       "</style>\n",
       "<table border=\"1\" class=\"dataframe\">\n",
       "  <thead>\n",
       "    <tr style=\"text-align: right;\">\n",
       "      <th></th>\n",
       "      <th>id</th>\n",
       "      <th>event</th>\n",
       "      <th>device</th>\n",
       "      <th>channel</th>\n",
       "      <th>code</th>\n",
       "      <th>size</th>\n",
       "      <th>data</th>\n",
       "    </tr>\n",
       "  </thead>\n",
       "  <tbody>\n",
       "    <tr>\n",
       "      <th>0</th>\n",
       "      <td>67635</td>\n",
       "      <td>67635</td>\n",
       "      <td>EP</td>\n",
       "      <td>AF3</td>\n",
       "      <td>6</td>\n",
       "      <td>260</td>\n",
       "      <td>4395.384615,4382.564102,4377.435897,4387.17948...</td>\n",
       "    </tr>\n",
       "    <tr>\n",
       "      <th>1</th>\n",
       "      <td>67636</td>\n",
       "      <td>67635</td>\n",
       "      <td>EP</td>\n",
       "      <td>F7</td>\n",
       "      <td>6</td>\n",
       "      <td>260</td>\n",
       "      <td>4489.230769,4475.384615,4474.358974,4486.66666...</td>\n",
       "    </tr>\n",
       "    <tr>\n",
       "      <th>2</th>\n",
       "      <td>67637</td>\n",
       "      <td>67635</td>\n",
       "      <td>EP</td>\n",
       "      <td>F3</td>\n",
       "      <td>6</td>\n",
       "      <td>260</td>\n",
       "      <td>4538.461538,4528.717948,4524.615384,4526.15384...</td>\n",
       "    </tr>\n",
       "    <tr>\n",
       "      <th>3</th>\n",
       "      <td>67638</td>\n",
       "      <td>67635</td>\n",
       "      <td>EP</td>\n",
       "      <td>FC5</td>\n",
       "      <td>6</td>\n",
       "      <td>260</td>\n",
       "      <td>4207.692307,4205.641025,4200.512820,4194.35897...</td>\n",
       "    </tr>\n",
       "    <tr>\n",
       "      <th>4</th>\n",
       "      <td>67639</td>\n",
       "      <td>67635</td>\n",
       "      <td>EP</td>\n",
       "      <td>T7</td>\n",
       "      <td>6</td>\n",
       "      <td>260</td>\n",
       "      <td>4497.948717,4498.461538,4494.871794,4497.94871...</td>\n",
       "    </tr>\n",
       "  </tbody>\n",
       "</table>\n",
       "</div>"
      ],
      "text/plain": [
       "      id  event device channel  code  size  \\\n",
       "0  67635  67635     EP     AF3     6   260   \n",
       "1  67636  67635     EP      F7     6   260   \n",
       "2  67637  67635     EP      F3     6   260   \n",
       "3  67638  67635     EP     FC5     6   260   \n",
       "4  67639  67635     EP      T7     6   260   \n",
       "\n",
       "                                                data  \n",
       "0  4395.384615,4382.564102,4377.435897,4387.17948...  \n",
       "1  4489.230769,4475.384615,4474.358974,4486.66666...  \n",
       "2  4538.461538,4528.717948,4524.615384,4526.15384...  \n",
       "3  4207.692307,4205.641025,4200.512820,4194.35897...  \n",
       "4  4497.948717,4498.461538,4494.871794,4497.94871...  "
      ]
     },
     "execution_count": 74,
     "metadata": {},
     "output_type": "execute_result"
    }
   ],
   "source": [
    "curr.head()"
   ]
  },
  {
   "cell_type": "code",
   "execution_count": 75,
   "metadata": {},
   "outputs": [],
   "source": [
    "# convert 'data' column into 2D array - IGNORE THIS CELL\n",
    "# datapts = np.array(curr['data'].apply(lambda x: [x]).to_list())\n",
    "# for d in datapts:\n",
    "#     d = list(map(float, d[0].split(',')))\n",
    "#     print(d)\n"
   ]
  },
  {
   "cell_type": "code",
   "execution_count": 76,
   "metadata": {},
   "outputs": [
    {
     "name": "stdout",
     "output_type": "stream",
     "text": [
      "[[4395.384615 4489.230769 4538.461538 ... 4682.051282 3989.23077\n",
      "  4078.461538]\n",
      " [4382.564102 4475.384615 4528.717948 ... 4667.179487 3983.589744\n",
      "  4062.564102]\n",
      " [4377.435897 4474.358974 4524.615384 ... 4662.051282 3987.692308\n",
      "  4055.897435]\n",
      " ...\n",
      " [4384.615384 4484.615384 4524.615384 ... 4630.25641  3990.769231\n",
      "  4052.820512]\n",
      " [4385.641025 4483.076923 4531.282051 ... 4631.282051 3989.23077\n",
      "  4058.974358]\n",
      " [4390.76923  4487.692307 4531.282051 ... 4640.       4014.871794\n",
      "  4070.76923 ]]\n"
     ]
    }
   ],
   "source": [
    "# convert 'data' column into 2D array and transpose\n",
    "datapts = np.transpose(np.array(curr['data'].apply(lambda x: list(map(float, x.split(',')))).to_list()))\n",
    "print(datapts)\n"
   ]
  },
  {
   "cell_type": "markdown",
   "metadata": {},
   "source": [
    "# attention mechanism\n",
    "src: https://machinelearningmastery.com/the-attention-mechanism-from-scratch/"
   ]
  },
  {
   "cell_type": "code",
   "execution_count": 77,
   "metadata": {},
   "outputs": [
    {
     "name": "stdout",
     "output_type": "stream",
     "text": [
      "14\n"
     ]
    }
   ],
   "source": [
    "# check size for weight matrix\n",
    "print(len(datapts[0]))"
   ]
  },
  {
   "cell_type": "code",
   "execution_count": 78,
   "metadata": {},
   "outputs": [
    {
     "name": "stdout",
     "output_type": "stream",
     "text": [
      "[[412430.256356 509117.435834 331994.871754 ... 363452.820464\n",
      "  516427.692242 377789.230719]\n",
      " [412430.256356 509117.435834 331994.871754 ... 363452.820464\n",
      "  516427.692242 377789.230719]\n",
      " [412430.256356 509117.435834 331994.871754 ... 363452.820464\n",
      "  516427.692242 377789.230719]\n",
      " ...\n",
      " [412430.256356 509117.435834 331994.871754 ... 363452.820464\n",
      "  516427.692242 377789.230719]\n",
      " [412430.256356 509117.435834 331994.871754 ... 363452.820464\n",
      "  516427.692242 377789.230719]\n",
      " [412430.256356 509117.435834 331994.871754 ... 363452.820464\n",
      "  516427.692242 377789.230719]]\n"
     ]
    }
   ],
   "source": [
    "# stacking the word embeddings into a single array\n",
    "words = datapts\n",
    "\n",
    "# generating the weight matrices\n",
    "random.seed(42)\n",
    "v_size = 14\n",
    "W_Q = random.randint(v_size, size=(v_size, v_size))\n",
    "W_K = random.randint(v_size, size=(v_size, v_size))\n",
    "W_V = random.randint(v_size, size=(v_size, v_size))\n",
    "\n",
    "# generating the queries, keys and values\n",
    "Q = words @ W_Q\n",
    "K = words @ W_K\n",
    "V = words @ W_V\n",
    "\n",
    "# scoring the query vectors against all key vectors\n",
    "scores = Q @ K.transpose()\n",
    "\n",
    "# computing the weights by a softmax operation\n",
    "weights = softmax(scores / K.shape[1] ** 0.5, axis=1)\n",
    "\n",
    "# computing the attention by a weighted sum of the value vectors\n",
    "attention = weights @ V\n",
    "\n",
    "print(attention)"
   ]
  },
  {
   "cell_type": "markdown",
   "metadata": {},
   "source": [
    "# normalized data\n",
    "using normalized data to better see attention mech"
   ]
  },
  {
   "cell_type": "code",
   "execution_count": 83,
   "metadata": {},
   "outputs": [
    {
     "data": {
      "image/png": "[encoded data removed]",
      "text/plain": [
       "<Figure size 640x480 with 2 Axes>"
      ]
     },
     "metadata": {},
     "output_type": "display_data"
    }
   ],
   "source": [
    "normed_matrix = normalize(datapts, axis=1, norm='l1')\n",
    "\n",
    "ax = sns.heatmap(normed_matrix, linewidth=0.5)\n",
    "plt.show()"
   ]
  },
  {
   "cell_type": "code",
   "execution_count": 80,
   "metadata": {},
   "outputs": [
    {
     "name": "stdout",
     "output_type": "stream",
     "text": [
      "[[6.7954255  8.39131232 5.47027047 ... 5.99376978 8.51216436 6.21708299]\n",
      " [6.79542551 8.39131233 5.47027047 ... 5.99376981 8.51216438 6.21708295]\n",
      " [6.79542551 8.39131235 5.47027046 ... 5.99376983 8.51216439 6.21708291]\n",
      " ...\n",
      " [6.79542553 8.39131246 5.47027041 ... 5.99377    8.51216449 6.21708259]\n",
      " [6.79542553 8.39131244 5.47027042 ... 5.99376997 8.51216448 6.21708265]\n",
      " [6.79542553 8.39131244 5.47027041 ... 5.99376997 8.51216448 6.21708264]]\n"
     ]
    }
   ],
   "source": [
    "# stacking the word embeddings into a single array\n",
    "words = normed_matrix\n",
    "\n",
    "# generating the weight matrices\n",
    "random.seed(42)\n",
    "v_size = 14\n",
    "W_Q = random.randint(v_size, size=(v_size, v_size))\n",
    "W_K = random.randint(v_size, size=(v_size, v_size))\n",
    "W_V = random.randint(v_size, size=(v_size, v_size))\n",
    "\n",
    "# generating the queries, keys and values\n",
    "Q = words @ W_Q\n",
    "K = words @ W_K\n",
    "V = words @ W_V\n",
    "\n",
    "# scoring the query vectors against all key vectors\n",
    "scores = Q @ K.transpose()\n",
    "\n",
    "# computing the weights by a softmax operation\n",
    "weights = softmax(scores / K.shape[1] ** 0.5, axis=1)\n",
    "\n",
    "# computing the attention by a weighted sum of the value vectors\n",
    "attention = weights @ V\n",
    "\n",
    "print(attention)"
   ]
  },
  {
   "cell_type": "code",
   "execution_count": 81,
   "metadata": {},
   "outputs": [
    {
     "data": {
      "image/png": "[encoded data removed]",
      "text/plain": [
       "<Figure size 640x480 with 2 Axes>"
      ]
     },
     "metadata": {},
     "output_type": "display_data"
    }
   ],
   "source": [
    "\n",
    "ax = sns.heatmap(attention, linewidth=0.5)\n",
    "plt.show()"
   ]
  },
  {
   "cell_type": "code",
   "execution_count": 82,
   "metadata": {},
   "outputs": [
    {
     "name": "stdout",
     "output_type": "stream",
     "text": [
      "[[0.98522025 1.74174051 0.75652026]\n",
      " [0.90965265 1.40965265 0.5       ]\n",
      " [0.99851226 1.75849334 0.75998108]\n",
      " [0.99560386 1.90407309 0.90846923]]\n"
     ]
    }
   ],
   "source": [
    "# example attention src code\n",
    "\n",
    "# encoder representations of four different words\n",
    "word_1 = array([1, 0, 0])\n",
    "word_2 = array([0, 1, 0])\n",
    "word_3 = array([1, 1, 0])\n",
    "word_4 = array([0, 0, 1])\n",
    "\n",
    "# stacking the word embeddings into a single array\n",
    "words = array([word_1, word_2, word_3, word_4])\n",
    "\n",
    "# generating the weight matrices\n",
    "random.seed(42)\n",
    "W_Q = random.randint(3, size=(3, 3))\n",
    "W_K = random.randint(3, size=(3, 3))\n",
    "W_V = random.randint(3, size=(3, 3))\n",
    "\n",
    "# generating the queries, keys and values\n",
    "Q = words @ W_Q\n",
    "K = words @ W_K\n",
    "V = words @ W_V\n",
    "\n",
    "# scoring the query vectors against all key vectors\n",
    "scores = Q @ K.transpose()\n",
    "\n",
    "# computing the weights by a softmax operation\n",
    "weights = softmax(scores / K.shape[1] ** 0.5, axis=1)\n",
    "\n",
    "# computing the attention by a weighted sum of the value vectors\n",
    "attention = weights @ V\n",
    "\n",
    "print(attention)"
   ]
  }
 ],
 "metadata": {
  "kernelspec": {
   "display_name": "qmind2",
   "language": "python",
   "name": "python3"
  },
  "language_info": {
   "codemirror_mode": {
    "name": "ipython",
    "version": 3
   },
   "file_extension": ".py",
   "mimetype": "text/x-python",
   "name": "python",
   "nbconvert_exporter": "python",
   "pygments_lexer": "ipython3",
   "version": "3.9.17"
  }
 },
 "nbformat": 4,
 "nbformat_minor": 2
}
